{
 "cells": [
  {
   "cell_type": "markdown",
   "metadata": {},
   "source": [
    "# Inaugural Project"
   ]
  },
  {
   "attachments": {},
   "cell_type": "markdown",
   "metadata": {},
   "source": [
    "> **Note the following:** \n",
    "> 1. This is an example of how to structure your **inaugural project**.\n",
    "> 1. Remember the general advice on structuring and commenting your code\n",
    "> 1. The `inauguralproject.py` file includes a function which can be used multiple times in this notebook."
   ]
  },
  {
   "cell_type": "markdown",
   "metadata": {},
   "source": [
    "Imports and set magics:"
   ]
  },
  {
   "cell_type": "code",
   "execution_count": null,
   "metadata": {},
   "outputs": [],
   "source": [
    "import numpy as np\n",
    "from scipy import optimize\n",
    "import matplotlib.pyplot as plt\n",
    "\n",
    "# autoreload modules when code is run. Otherwise, python will not see recent changes. \n",
    "%load_ext autoreload\n",
    "%autoreload 2\n",
    "\n",
    "# Import the model and preferences\n",
    "import inauguralproject\n",
    "from inauguralproject import HouseholdSpecializationModelClass as HSMC\n"
   ]
  },
  {
   "cell_type": "markdown",
   "metadata": {},
   "source": [
    "# Question 1"
   ]
  },
  {
   "cell_type": "markdown",
   "metadata": {},
   "source": [
    "**Explain how you solve the model**"
   ]
  },
  {
   "cell_type": "code",
   "execution_count": null,
   "metadata": {},
   "outputs": [],
   "source": [
    "# create instance of the model\n",
    "model1 = HSMC()\n",
    "\n",
    "# define values of alpha and sigma to loop through\n",
    "alpha_values = [0.25, 0.5, 0.75]\n",
    "sigma_values = [0.5, 1.0, 1.5]\n",
    "\n",
    "# initialize dictionary to store results\n",
    "resultsHF = {}\n",
    "resultsHM = {}\n",
    "\n",
    "# loop through all combinations of alpha and sigma\n",
    "for alpha in alpha_values:\n",
    "    for sigma in sigma_values:\n",
    "        # set values of alpha and sigma in the model\n",
    "        model1.par.alpha = alpha\n",
    "        model1.par.sigma = sigma\n",
    "        \n",
    "        # solve the model and store the result\n",
    "        opt = model1.solve_discrete()\n",
    "        resultsHF[(alpha, sigma)] = opt.HF\n",
    "        resultsHM[(alpha, sigma)] = opt.HM\n",
    "\n",
    "# plot the results\n",
    "fig, ax = plt.subplots()\n",
    "for alpha in alpha_values:\n",
    "    y = [resultsHF[(alpha, sigma)]/resultsHM[(alpha,sigma)] for sigma in sigma_values]\n",
    "    ax.plot(sigma_values, y, label=f\"alpha={alpha}\")\n",
    "ax.set_xlabel(\"sigma\")\n",
    "ax.set_ylabel(\"HF/HM\")\n",
    "ax.legend()\n",
    "plt.show()\n"
   ]
  },
  {
   "cell_type": "markdown",
   "metadata": {},
   "source": [
    "# Question 2"
   ]
  },
  {
   "cell_type": "markdown",
   "metadata": {},
   "source": [
    "Explain your code and procedure"
   ]
  },
  {
   "cell_type": "code",
   "execution_count": null,
   "metadata": {},
   "outputs": [],
   "source": [
    "# create instance of the model\n",
    "model2 = HSMC()\n",
    "\n",
    "# define values of alpha and sigma to loop through\n",
    "wF_values = [0.8, 0.9, 1.0, 1.1, 1.2]\n",
    "\n",
    "\n",
    "# initialize dictionary to store results\n",
    "resultsHF = {}\n",
    "resultsHM = {}\n",
    "\n",
    "for wF in wF_values:\n",
    "    # set values of alpha and sigma in the model\n",
    "    model2.par.wF = wF\n",
    "        \n",
    "    # solve the model and store the result\n",
    "    opt = model2.solve_discrete()\n",
    "    resultsHF[wF] = opt.HF\n",
    "    resultsHM[wF] = opt.HM\n",
    "\n",
    "# plot the results\n",
    "fig, ax = plt.subplots()\n",
    "for wf in wF_values:\n",
    "    y = [np.log(resultsHF[wF]/resultsHM[wF]) for wF in wF_values]\n",
    "ax.plot(np.log(wF_values),y)\n",
    "ax.set_xlabel(\"wF\")\n",
    "ax.set_ylabel(\"HF/HM\")\n",
    "plt.show()\n",
    "\n",
    "print(resultsHF)\n",
    "print(resultsHM)\n",
    "\n"
   ]
  },
  {
   "attachments": {},
   "cell_type": "markdown",
   "metadata": {},
   "source": [
    "Når den relative løn for kvinder falder, vil de bruge mere tid hjemme... noget mere :)"
   ]
  },
  {
   "cell_type": "markdown",
   "metadata": {},
   "source": [
    "# Question 3"
   ]
  },
  {
   "cell_type": "markdown",
   "metadata": {},
   "source": [
    "Explain your code and procedure"
   ]
  },
  {
   "cell_type": "code",
   "execution_count": null,
   "metadata": {},
   "outputs": [],
   "source": [
    "model3 = HSMC()\n",
    "\n",
    "# define values of alpha and sigma to loop through\n",
    "wf_values = [0.8, 0.9, 1.0, 1.1, 1.2]\n",
    "\n",
    "\n",
    "# initialize dictionary to store results\n",
    "resultsHF = {}\n",
    "resultsHM = {}\n",
    "\n",
    "for i,wF in enumerate(wf_values):\n",
    "    # set values of alpha and sigma in the model\n",
    "    model3.par.wF = wF\n",
    "        \n",
    "    # solve the model and store the result\n",
    "    opt = model3.solve()\n",
    "    resultsHF[wF] = opt.HF\n",
    "    resultsHM[wF] = opt.HM\n",
    "\n",
    "    model3.sol.HF_vec[i] = opt.HF\n",
    "    model3.sol.HM_vec[i] = opt.HM\n",
    "    model3.sol.LF_vec[i] = opt.LF\n",
    "    model3.sol.LM_vec[i] = opt.LM\n",
    "\n",
    "\n",
    "\n",
    "# plot the results\n",
    "fig, ax = plt.subplots()\n",
    "for wf in wF_values:\n",
    "    y = [np.log(resultsHF[wF]/resultsHM[wF]) for wF in wF_values]\n",
    "ax.plot(np.log(wF_values),y)\n",
    "ax.set_xlabel(\"log(wF)\")\n",
    "ax.set_ylabel(\"log(HF/HM)\")\n",
    "plt.show()\n",
    "\n",
    "print(resultsHF)\n",
    "print(resultsHM)"
   ]
  },
  {
   "attachments": {},
   "cell_type": "markdown",
   "metadata": {},
   "source": [
    "## Question 4"
   ]
  },
  {
   "cell_type": "code",
   "execution_count": null,
   "metadata": {},
   "outputs": [],
   "source": [
    "# Printing the result of our regression\n",
    "\n",
    "print(model3.run_regression())\n"
   ]
  },
  {
   "cell_type": "code",
   "execution_count": null,
   "metadata": {},
   "outputs": [],
   "source": [
    "# Defining our estimate to minimize the squared differences\n",
    "def estimate(self, alpha=None, sigma=None):\n",
    "    par = self.par\n",
    "    sol = self.sol\n",
    "\n",
    "    diff0 = par.beta0_target - model3.run_regression(sol.beta0)\n",
    "    diff1 = par.beta1_target - model3.run_regression(sol.beta1)\n",
    "   \n",
    "    return diff0**2 + diff1**2\n",
    "\n",
    "# Providing initial guess\n",
    "x0 = [0.5, 1]\n",
    "\n",
    "# Minimizing the squared differences with our optimize/minimize\n",
    "res = optimize.minimize(estimate, x0)\n",
    "\n",
    "print(res)"
   ]
  }
 ],
 "metadata": {
  "kernelspec": {
   "display_name": "base",
   "language": "python",
   "name": "python3"
  },
  "language_info": {
   "codemirror_mode": {
    "name": "ipython",
    "version": 3
   },
   "file_extension": ".py",
   "mimetype": "text/x-python",
   "name": "python",
   "nbconvert_exporter": "python",
   "pygments_lexer": "ipython3",
   "version": "3.9.16"
  },
  "toc-autonumbering": true,
  "vscode": {
   "interpreter": {
    "hash": "f90a7b205738f394fbc91aed629a4efa870f7bd5b45abcefe5ed06166a9d4a7d"
   }
  }
 },
 "nbformat": 4,
 "nbformat_minor": 4
}
