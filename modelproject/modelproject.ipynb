{
 "cells": [
  {
   "cell_type": "markdown",
   "metadata": {},
   "source": [
    "# YOUR PROJECT TITLE"
   ]
  },
  {
   "attachments": {},
   "cell_type": "markdown",
   "metadata": {},
   "source": [
    "> **Note the following:** \n",
    "> 1. This is *not* meant to be an example of an actual **model analysis project**, just an example of how to structure such a project.\n",
    "> 1. Remember the general advice on structuring and commenting your code\n",
    "> 1. The `modelproject.py` file includes a function which could be used multiple times in this notebook."
   ]
  },
  {
   "cell_type": "markdown",
   "metadata": {},
   "source": [
    "Imports and set magics:"
   ]
  },
  {
   "cell_type": "code",
   "execution_count": 1,
   "metadata": {},
   "outputs": [],
   "source": [
    "import numpy as np\n",
    "from scipy import optimize\n",
    "import sympy as sm\n",
    "\n",
    "# autoreload modules when code is run\n",
    "%load_ext autoreload\n",
    "%autoreload 2\n",
    "\n",
    "# local modules\n",
    "import modelproject as mp"
   ]
  },
  {
   "attachments": {},
   "cell_type": "markdown",
   "metadata": {},
   "source": [
    "# Model description - Real Business-Cycle Model"
   ]
  },
  {
   "attachments": {},
   "cell_type": "markdown",
   "metadata": {},
   "source": [
    "The RBC-model is a model described as:\n",
    "1. A closed economy\n",
    "2. The public sector is ignored\n",
    "3. Four markets:\n",
    "    - goods market\n",
    "    - labor market\n",
    "    - rental market for capital goods\n",
    "    - bond market\n",
    "4. Perfect competition in all markets\n",
    "\n",
    "**General Equilibrium**\n",
    "\n",
    "The supply side is given as in every period t, the individual firm employs labor at the market wage, $w_t$, and rents capital goods at then rental rate, $R_t$. The combination of labour and capital produces the homogeneous output good. This can be used for consumption, as well as investments. <br>\n",
    "<br>\n",
    "The demand side is given by rational expectations since households understand precisely how the economy works, they can make the best possible prediction about the future path of wages and interest rates. <br>\n",
    "<br>\n",
    "\n",
    "**Technology**\n",
    "\n",
    "The production technology is given as: <br>\n",
    "<br>\n",
    "$Y_t = A_t K^\\alpha N^{1-\\alpha}$ <br>\n",
    "<br>\n",
    "Where the production function is a Cobb-Douglas production function that contains capital, $K_t$, and work, $N_t$. <br>\n",
    "<br>\n",
    "\n",
    "**Capital Accumulation**\n",
    "\n",
    "The stock of capital evolves according to the classical capital accumulation: <br>\n",
    "<br>\n",
    "$K_{t+1} = I_t + (1-\\delta) K_t$ <br>\n",
    "<br>\n",
    "Where $\\delta$ is the rate of depreciation. Since we're observing a closed economy the output, Y, can either be used for investment or saving: <br>\n",
    "<br>\n",
    "$Y_t = C_t + I_t$ <br>\n",
    "<br>\n",
    "\n",
    "**Endowment**\n",
    "\n",
    "Individuals in this economy can either spend their time on work ($N_t$) or leisure ($L_t$): <br>\n",
    "<br>\n",
    "$N_t + L_t = H_t$ <br>\n",
    "<br>\n",
    "Where $H_t$ is the total amount of hours available, which can be normalized to 1. <br>\n",
    "<br>\n",
    "\n",
    "**Household's preferences**\n",
    "\n",
    "The economy is populated by a large number of infinitely lived agents whose expected utility is defined as: <br>\n",
    "<br>\n",
    "$E_0 \\sum^{\\infty}_{t=1} b^t U(C_t, L_t), \\hspace{1cm} 0 < b < 1$ <br>\n",
    "<br>\n",
    "Where b is the discount factor, and $C_t$ and $L_t$ represent consumption and leisure at time t. $E_0$ denotes expectations based on the information set available at time $t=0$. <br>\n",
    "<br>\n",
    "\n",
    "**Detrendization**\n",
    "\n",
    "When we impose balanced growth restriction it is possible to transform the economy by scaling all trending variables: <br>\n",
    "<br>\n",
    "$(c_t = \\frac{C_t}{X_t}, \\hspace{0.5cm} y_t = \\frac{Y_t}{X_t}, \\hspace{0.5cm} k_t = \\frac{K_t}{X_t}, \\hspace{0.5cm} i_t = \\frac{I_t}{X_t})$ <br>\n",
    "<br>\n",
    "By doing this we can rewrite the problem to: <br>\n",
    "<br>\n",
    "$E_0 \\sum_{t=1}^\\infty \\beta^t u(c_t, L_t), \\hspace{1cm} \\beta = b \\gamma^{1-\\gamma}$ <br>\n",
    "<br>\n",
    "$N_t = 1 - L_t$ <br>\n",
    "<br>\n",
    "$y_t = c_t + i_t$ <br>\n",
    "<br>\n",
    "$y_t = A_t k_t^\\alpha N_t^{1-\\alpha}$ <br>\n",
    "<br>\n",
    "$\\gamma k_{t+1} = i_t + (1-\\delta) k_t$ <br>\n",
    "<br>\n",
    "\n",
    "**Solving the model**\n",
    "\n",
    "When solving the model we first observe the households. The households problem can be written as: <br>\n",
    "<br>\n",
    "$max_{c_t, N_t, k_{t+1}} \\hspace{0.3cm} E_0 \\sum^\\infty_{t=1} \\beta^t u(c_t, L_t)$ <br>\n",
    "$\\text{s.t.} \\hspace{0.3cm} c_t + \\gamma k_{t+1} = w_t N_t + (1+R_t - \\delta)k_t + \\Pi_t$ <br>\n",
    "<br>\n",
    "By using the lagrangian we get the expression for the wage: <br>\n",
    "<br>\n",
    "$w_t = \\frac{u_L'(c_t, L_t)}{u_c'(c_t, L_t)}$ <br>\n",
    "<br>\n",
    "$\\beta E [(1+R_{t+1}-\\delta) u_c'(c_{t+1}, L_{t+1})] = \\gamma u_c'(c_t, L_t)$ <br>\n",
    "<br>\n",
    "We now observe the firms. The firms' problem are given as: <br>\n",
    "<br>\n",
    "$max_{N_t, k_t} \\hspace{0.3cm} \\Pi_t = A_t k_t^\\alpha N_t^{1-\\alpha} - w_t N_t - R_t k_t$ <br>\n",
    "<br>\n",
    "Which returns the familiar conditions: <br>\n",
    "<br>\n",
    "$r_t = \\alpha A_t k_t^{\\alpha-1} N_t^{1-\\alpha}$ <br>\n",
    "$w_t = (1 - \\alpha) A_t k_t^\\alpha N_t^{-\\alpha}$ <br>\n",
    "<br>\n",
    "The market clearing will then start by observing the equilibrium conditions by limiting ourselves to the factor markets due to Walras' law: <br>\n",
    "<br>\n",
    "$N_t^s = N_t^d = N_t, \\hspace{1cm} k_t^s = k_t^d = k_t$ <br>\n",
    "<br> \n",
    "We combine the two equilibrium equations to get: <br>\n",
    "<br>\n",
    "$\\beta [(1+R_{t+1}-\\delta)] = \\frac{\\gamma u_c'(c_t, L_t)}{u_c'(c_{t+1}, L_{t+1}} \\Leftrightarrow \\frac{u_L'(c_{t+1}, L_{t+1}}{u_L'(c_t, L_t)} = \\frac{1}{\\beta [(1+R_{t+1} - \\delta)]} \\cdot \\frac{w_{t+1}}{w_t}$ <br>\n",
    "<br>\n",
    "We can rewrite this under log utility: <br>\n",
    "<br>\n",
    "$\\frac{L_t}{L_{t+1}} = \\frac{1}{\\beta [(1+R_{t+1} - \\delta)]} \\cdot \\frac{w_{t+1}}{w_t}$ <br>\n",
    "<br>\n",
    " \n",
    "\n"
   ]
  },
  {
   "cell_type": "markdown",
   "metadata": {},
   "source": [
    "## Analytical solution"
   ]
  },
  {
   "cell_type": "markdown",
   "metadata": {},
   "source": [
    "If your model allows for an analytical solution, you should provide here.\n",
    "\n",
    "You may use Sympy for this. Then you can characterize the solution as a function of a parameter of the model.\n",
    "\n",
    "To characterize the solution, first derive a steady state equation as a function of a parameter using Sympy.solve and then turn it into a python function by Sympy.lambdify. See the lecture notes for details. "
   ]
  },
  {
   "cell_type": "markdown",
   "metadata": {},
   "source": [
    "## Numerical solution"
   ]
  },
  {
   "cell_type": "markdown",
   "metadata": {},
   "source": [
    "You can always solve a model numerically. \n",
    "\n",
    "Define first the set of parameters you need. \n",
    "\n",
    "Then choose one of the optimization algorithms that we have gone through in the lectures based on what you think is most fitting for your model.\n",
    "\n",
    "Are there any problems with convergence? Does the model converge for all starting values? Make a lot of testing to figure these things out. "
   ]
  },
  {
   "cell_type": "markdown",
   "metadata": {},
   "source": [
    "# Further analysis"
   ]
  },
  {
   "cell_type": "markdown",
   "metadata": {},
   "source": [
    "Make detailed vizualizations of how your model changes with parameter values. \n",
    "\n",
    "Try to make an extension of the model. "
   ]
  },
  {
   "cell_type": "markdown",
   "metadata": {},
   "source": [
    "# Conclusion"
   ]
  },
  {
   "cell_type": "markdown",
   "metadata": {},
   "source": [
    "Add concise conclusion. "
   ]
  }
 ],
 "metadata": {
  "kernelspec": {
   "display_name": "base",
   "language": "python",
   "name": "python3"
  },
  "language_info": {
   "codemirror_mode": {
    "name": "ipython",
    "version": 3
   },
   "file_extension": ".py",
   "mimetype": "text/x-python",
   "name": "python",
   "nbconvert_exporter": "python",
   "pygments_lexer": "ipython3",
   "version": "3.9.16"
  },
  "toc-autonumbering": true,
  "vscode": {
   "interpreter": {
    "hash": "f90a7b205738f394fbc91aed629a4efa870f7bd5b45abcefe5ed06166a9d4a7d"
   }
  }
 },
 "nbformat": 4,
 "nbformat_minor": 4
}
