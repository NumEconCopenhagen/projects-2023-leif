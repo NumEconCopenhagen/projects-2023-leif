{
 "cells": [
  {
   "cell_type": "code",
   "execution_count": 1,
   "metadata": {},
   "outputs": [],
   "source": [
    "import pandas as pd\n",
    "import numpy as np\n",
    "import matplotlib.pyplot as plt\n",
    "import sympy as sp \n",
    "from scipy import optimize\n",
    "import rigtigny as rn\n",
    "import fredetry as fr"
   ]
  },
  {
   "cell_type": "code",
   "execution_count": 2,
   "metadata": {},
   "outputs": [],
   "source": [
    "from types import SimpleNamespace\n",
    "import scipy.optimize as optimize\n",
    "\n",
    "class Ramseymodelclass:\n",
    "    def __init__(self):\n",
    "        par = self.par = SimpleNamespace()\n",
    "\n",
    "        # parameters\n",
    "        par.alpha = 0.33\n",
    "        par.beta = 0.50\n",
    "        par.delta = 0.05\n",
    "        par.theta = 0.9\n",
    "\n",
    "    @staticmethod\n",
    "    def ss_equations(x, par):\n",
    "        k, c, w, rk = x\n",
    "        k_star = ((par.beta*par.alpha)/(1-par.beta))**(1/(1-par.alpha))\n",
    "        c_star = k_star**par.alpha\n",
    "        w_star = (1-par.alpha)*k_star**par.alpha\n",
    "        rk_star = par.alpha*k_star**(par.alpha-1)\n",
    "        equation1 = k_star - k\n",
    "        equation2 = c_star - c\n",
    "        equation3 = w_star - w\n",
    "        equation4 = rk_star - rk\n",
    "        return [equation1, equation2, equation3, equation4]\n",
    "    \n",
    "    def ss_values(self):\n",
    "        par = self.par\n",
    "        x0 = [1, 1, 1, 1] # initial guess for the steady state values needed for the algorithm to work\n",
    "        ss_sol = optimize.root(Ramseymodelclass.ss_equations, x0, args=(par,), method='hybr')\n",
    "        k_star, c_star, w_star, rk_star = ss_sol.x\n",
    "        y_star = k_star**par.alpha\n",
    "        pi_star = y_star - w_star - rk_star*k_star\n",
    "        return k_star, c_star, w_star, rk_star, y_star, pi_star\n"
   ]
  },
  {
   "cell_type": "code",
   "execution_count": 3,
   "metadata": {},
   "outputs": [
    {
     "name": "stdout",
     "output_type": "stream",
     "text": [
      "k_star: 0.191145504918385\n",
      "c_star: 0.5792288027829848\n",
      "w_star: 0.3880832978645998\n",
      "rk_star: 0.9999999999999999\n",
      "y_star: 0.5792288027829848\n",
      "pi_star: 8.326672684688674e-17\n"
     ]
    }
   ],
   "source": [
    "ramsey_model = Ramseymodelclass()\n",
    "k_star, c_star, w_star, rk_star, y_star, pi_star = ramsey_model.ss_values()\n",
    "\n",
    "print(\"k_star:\", k_star)\n",
    "print(\"c_star:\", c_star)\n",
    "print(\"w_star:\", w_star)\n",
    "print(\"rk_star:\", rk_star)\n",
    "print(\"y_star:\", y_star)\n",
    "print(\"pi_star:\", pi_star)"
   ]
  },
  {
   "cell_type": "code",
   "execution_count": 4,
   "metadata": {},
   "outputs": [
    {
     "name": "stdout",
     "output_type": "stream",
     "text": [
      "k_star: 0.0023592644585285045\n",
      "c_star: 0.13583643852133814\n",
      "w_star: 0.09101041380929654\n",
      "rk_star: 18.999999999999993\n",
      "y_star: 0.13583643852133814\n",
      "pi_star: 2.7755575615628914e-17\n"
     ]
    }
   ],
   "source": [
    "ramsey_model = Ramseymodelclass()\n",
    "\n",
    "# Modify the beta parameter\n",
    "ramsey_model.par.beta = 0.05\n",
    "\n",
    "k_star, c_star, w_star, rk_star, y_star, pi_star = ramsey_model.ss_values()\n",
    "\n",
    "print(\"k_star:\", k_star)\n",
    "print(\"c_star:\", c_star)\n",
    "print(\"w_star:\", w_star)\n",
    "print(\"rk_star:\", rk_star)\n",
    "print(\"y_star:\", y_star)\n",
    "print(\"pi_star:\", pi_star)\n"
   ]
  },
  {
   "cell_type": "code",
   "execution_count": 7,
   "metadata": {},
   "outputs": [
    {
     "name": "stdout",
     "output_type": "stream",
     "text": [
      "k_star: 0.34867844010000004\n",
      "c_star: 0.38742048900000003\n",
      "w_star: 0.03874204889999999\n",
      "rk_star: 1.0\n",
      "y_star: 0.38742048900000003\n",
      "pi_star: 0.0\n"
     ]
    }
   ],
   "source": [
    "ramsey_model = Ramseymodelclass()\n",
    "\n",
    "# Modify the beta parameter\n",
    "ramsey_model.par.alpha = 0.9\n",
    "\n",
    "k_star, c_star, w_star, rk_star, y_star, pi_star = ramsey_model.ss_values()\n",
    "\n",
    "print(\"k_star:\", k_star)\n",
    "print(\"c_star:\", c_star)\n",
    "print(\"w_star:\", w_star)\n",
    "print(\"rk_star:\", rk_star)\n",
    "print(\"y_star:\", y_star)\n",
    "print(\"pi_star:\", pi_star)"
   ]
  },
  {
   "cell_type": "code",
   "execution_count": 8,
   "metadata": {},
   "outputs": [
    {
     "name": "stdout",
     "output_type": "stream",
     "text": [
      "k_star: 5.687076686728783e-14\n",
      "c_star: 1.2006050793088974e-12\n",
      "w_star: 1.2011586552952368e-13\n",
      "rk_star: 18.999999999999993\n",
      "y_star: 1.200605078414328e-12\n",
      "pi_star: -5.535759366407571e-17\n"
     ]
    }
   ],
   "source": [
    "ramsey_model = Ramseymodelclass()\n",
    "\n",
    "# Modify the beta parameter\n",
    "ramsey_model.par.alpha = 0.9\n",
    "ramsey_model.par.beta = 0.05\n",
    "\n",
    "k_star, c_star, w_star, rk_star, y_star, pi_star = ramsey_model.ss_values()\n",
    "\n",
    "print(\"k_star:\", k_star)\n",
    "print(\"c_star:\", c_star)\n",
    "print(\"w_star:\", w_star)\n",
    "print(\"rk_star:\", rk_star)\n",
    "print(\"y_star:\", y_star)\n",
    "print(\"pi_star:\", pi_star)"
   ]
  },
  {
   "attachments": {},
   "cell_type": "markdown",
   "metadata": {},
   "source": [
    "# Assigment model project\n",
    "Ramsey model: Finding the optimal growth for a cloaed, neo-classic economy. The agents in this economy are identical competetive firms and a large number of identical households. This model differentiates from the Solow model where it is assumed to be a fixed savings rate, by defining the savings behavior through the intertempotal utility function of the consumer."
   ]
  },
  {
   "attachments": {},
   "cell_type": "markdown",
   "metadata": {},
   "source": [
    "# Defining the model:\n",
    "Please note, that all lower case variables are in per capita terms\n",
    "\n",
    "The profit function the firms maximize: \n",
    "$$\\pi^F(K_t,L_t)=K^\\alpha_tL^{1-\\alpha}-w_tL_t-(\\delta+r_tK_t)$$\n",
    "$0<\\alpha<1$\n",
    "\n",
    "Where: \n",
    "bib bib bib \n",
    "\n",
    "SIMPLE FUNCTION FOR K_t+1 NO depreciation for now\n",
    "$$ k_{t+1} = w_{t} + (1-r_{t})*k_{t} - c_{t]}$$\n",
    "\n",
    "The intertemporal untility function of the consumer subject to their dynamic budget constraint:\n",
    "$$U=\\sum^\\infty_{t=0}\\beta^t\\frac{c_t^{1-\\theta}}{1-\\theta} \\quad \\text{s.t.} \\quad c_t + a_{t+1} = w_t+(1+r_t)a_t$$\n",
    "Assumptions: $a_0>0$, $0<\\beta<1$\n",
    "\n",
    "Where\n",
    "$c_t$ is the per-capita consumption\\\n",
    "$a_t$ is wealth\\\n",
    "bib bib bib\n",
    "market clearing a = k"
   ]
  },
  {
   "attachments": {},
   "cell_type": "markdown",
   "metadata": {},
   "source": [
    "First we find how much capital and labor a firm demands at given factor prices by solving the firms maximization problem: \n",
    "\n",
    "$$\\frac{\\partial\\pi^F(K_t,L_t)}{\\partial L}=(1-\\alpha)\\left(\\frac{K_t^\\alpha}{L_t^\\alpha}\\right)-w_t=(1-\\alpha)k^\\alpha_t-w_t=0\\Leftrightarrow $$ \n",
    "$$w_t=(1-\\alpha)k^\\alpha_t$$\n",
    "The firm maximizes their labor, when the marginal products is equal to the wages, $w_t$. \n",
    "$$\\frac{\\partial\\pi^F(K_t,L_t)}{\\partial K}=\\alpha\\left(\\frac{K_t^{\\alpha-1}}{L_t^{\\alpha-1}}\\right)-r_t=\\alpha k_t^{\\alpha-1}-r_t=0\\Leftrightarrow$$ \n",
    "$$ r_t=\\alpha k_t^{\\alpha-1}$$\n",
    "The firm maximizes their capital, when the marginal products is equal to the price of capital, $r_t$. \n",
    "\n",
    "From the above we now know:\\\n",
    "The return the representative household receives on their saving:\n",
    "$$r_tk_t=\\alpha k^{\\alpha-1+1}_t=\\alpha k^\\alpha_t$$\n",
    "And the return the representative household receives in their labor service: \n",
    "$$w_tL_t=(1-\\alpha)k^\\alpha_tL_t$$\n"
   ]
  },
  {
   "attachments": {},
   "cell_type": "markdown",
   "metadata": {},
   "source": [
    "Using the Lagrainian we get the Euler equation, which if being followed makes the consumer indifferent between consuming one more unit today and saving the unit, thus consuming it in the future: \n",
    "$$\\mathcal{L}(c_t,a_{t+1},\\lambda)=\\sum^\\infty_{t=0}\\beta^t[\\frac{1}{1-\\theta}c_t^{1-\\theta}+\\lambda_t(w_t+(1+r_t)a_t-c_t-a_{t+1})]$$\n",
    "FOC w.r.t. $c_t$:\n",
    "$$\\frac{\\partial \\mathcal{L}}{\\partial c_t}=\\beta^t\\frac{1-\\theta}{1-\\theta}c_t^{1-\\theta-1}-\\beta^t\\lambda_t=0\\Leftrightarrow \\lambda_t = c^{-\\theta}_t $$\n",
    "FOC w.r.t. $a_{t+1}$:\n",
    "$$\\frac{\\partial\\mathcal{L}}{\\partial a_{t+1}}=-\\beta^t\\lambda_t+\\beta^{t+1}\\lambda_{t+1}(1+r_{t+1})=0\\Leftrightarrow \\lambda_t = \\beta(1+r_{t+1})\\lambda_{t+1}$$\n",
    "\n",
    "\n",
    "Combining the derivatives above give us the Euler equation: \n",
    "$$\\frac{c_{t+1}}{c_t}=(\\beta(1+r_{t+1}))^\\frac{1}{\\theta}$$\n",
    "Which states that the marginal rate of substitution between the marginal utility of today and the future marginal utility is equal to the relative price of consumption. This insures equality between the future value of the discounted marginal utility of time $t+1$ and the marginal utility of time $t$. \n"
   ]
  },
  {
   "attachments": {},
   "cell_type": "markdown",
   "metadata": {},
   "source": [
    "Maybe add something about what happens if $\\beta$ or $r_t$ changes"
   ]
  },
  {
   "attachments": {},
   "cell_type": "markdown",
   "metadata": {},
   "source": [
    "# Steady state equations\n",
    "Following equations (loci) are the steady state values of the economy found by the above equations:\\\n",
    "c-locus:\n",
    "$$k^*=(\\frac{\\beta \\alpha}{1-\\beta})^\\frac{1}{1-\\alpha}$$\n",
    "We notice, that the c-locus is independent of c, meaning graphically it will be a vertical line. \n",
    "k-locus:\n",
    "$$c^*=k^\\alpha$$\n",
    "We see, that the k-locus won't depreciate after a certain point in time. It will grow continuously. "
   ]
  },
  {
   "cell_type": "markdown",
   "metadata": {},
   "source": []
  },
  {
   "cell_type": "code",
   "execution_count": 5,
   "metadata": {},
   "outputs": [
    {
     "name": "stdout",
     "output_type": "stream",
     "text": [
      "This is the steady state capital:  (0.191145504918385, 0.5792288027829848)\n"
     ]
    }
   ],
   "source": [
    "print(\"This is the steady state capital: \", fr.ss)\n"
   ]
  },
  {
   "cell_type": "code",
   "execution_count": 6,
   "metadata": {},
   "outputs": [
    {
     "data": {
      "text/plain": [
       "Text(0.25, 1.3, 'c lokus')"
      ]
     },
     "execution_count": 6,
     "metadata": {},
     "output_type": "execute_result"
    },
    {
     "data": {
      "image/png": "[encoded data removed]",
      "text/plain": [
       "<Figure size 640x480 with 1 Axes>"
      ]
     },
     "metadata": {},
     "output_type": "display_data"
    }
   ],
   "source": [
    "# Plot\n",
    "k = np.linspace(0, 5, 100)\n",
    "c = fr.c_lokus(fr.params[\"model1\"][\"alpha\"], fr.params[\"model1\"][\"beta\"])\n",
    "fig, ax = plt.subplots()\n",
    "ax.plot(k, fr.k_lokus(k, fr.params[\"model1\"][\"alpha\"]), color=\"purple\", label=\"k lokus\")\n",
    "ax.plot([c, c], [fr.k_lokus(0, fr.params[\"model1\"][\"alpha\"]), fr.k_lokus(c, fr.params[\"model1\"][\"alpha\"])], \"--\", color=\"blue\", label=\"c lokus\")\n",
    "ax.axvline(x=fr.ss[0], color=\"blue\", linestyle=\"--\", alpha=1)\n",
    "ax.scatter(fr.ss[0], fr.ss[1], marker=\"o\", color=\"red\")\n",
    "ax.set_xlabel(\"k\")\n",
    "ax.set_ylabel(\"c\")\n",
    "ax.set_title(\"Phase diagram\")\n",
    "ax.legend()\n",
    "\n",
    "# Set axis limits and tick positions\n",
    "ax.set_xlim([0, 5])\n",
    "ax.set_xticks(np.arange(0, 5.5, 0.5))\n",
    "ax.set_ylim([0, 2.0])\n",
    "ax.set_yticks(np.arange(0, 2.0, 0.5))\n",
    "ax.grid(alpha=0.3)\n",
    "\n",
    "# Add text labels\n",
    "ax.text(fr.ss[0]+0.1, fr.ss[1]-0.05, \"Steady state\")\n",
    "ax.text(3.3, 1.4, \"k lokus\")\n",
    "ax.text(0.25, 1.3, \"c lokus\")\n"
   ]
  },
  {
   "cell_type": "code",
   "execution_count": null,
   "metadata": {},
   "outputs": [],
   "source": [
    "# Plot\n",
    "k = np.linspace(0, 5, 100)\n",
    "c = fr.c_lokus(fr.params[\"model1\"][\"alpha\"], fr.params[\"model1\"][\"beta\"])\n",
    "fig, ax = plt.subplots()\n",
    "ax.plot(k, fr.k_lokus(k, fr.params[\"model1\"][\"alpha\"]), color=\"purple\", label=\"k lokus\")\n",
    "ax.plot([c, c], [fr.k_lokus(0, fr.params[\"model1\"][\"alpha\"]), fr.k_lokus(c, fr.params[\"model1\"][\"alpha\"])], \"--\", color=\"blue\", label=\"c lokus\")\n",
    "ax.axvline(x=fr.ss[0], color=\"blue\", linestyle=\"--\", alpha=1)\n",
    "ax.scatter(fr.ss[0], fr.ss[1], marker=\"o\", color=\"red\")\n",
    "ax.set_xlabel(\"k\")\n",
    "ax.set_ylabel(\"c\")\n",
    "ax.set_title(\"Phase diagram\")\n",
    "ax.legend()\n",
    "\n",
    "# Set axis limits and tick positions\n",
    "ax.set_xlim([0, 5])\n",
    "ax.set_xticks(np.arange(0, 5.5, 0.5))\n",
    "ax.set_ylim([0, 2.0])\n",
    "ax.set_yticks(np.arange(0, 2.0, 0.5))\n",
    "ax.grid(alpha=0.3)\n",
    "\n",
    "# Add text labels\n",
    "ax.text(fr.ss[0]+0.1, fr.ss[1]-0.05, \"Steady state\")\n",
    "ax.text(3.3, 1.4, \"k lokus\")\n",
    "ax.text(0.25, 1.3, \"c lokus\")"
   ]
  }
 ],
 "metadata": {
  "kernelspec": {
   "display_name": "base",
   "language": "python",
   "name": "python3"
  },
  "language_info": {
   "codemirror_mode": {
    "name": "ipython",
    "version": 3
   },
   "file_extension": ".py",
   "mimetype": "text/x-python",
   "name": "python",
   "nbconvert_exporter": "python",
   "pygments_lexer": "ipython3",
   "version": "3.9.16"
  },
  "orig_nbformat": 4,
  "vscode": {
   "interpreter": {
    "hash": "f90a7b205738f394fbc91aed629a4efa870f7bd5b45abcefe5ed06166a9d4a7d"
   }
  }
 },
 "nbformat": 4,
 "nbformat_minor": 2
}
