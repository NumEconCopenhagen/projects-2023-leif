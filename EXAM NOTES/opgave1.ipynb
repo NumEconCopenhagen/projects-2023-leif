{
 "cells": [
  {
   "cell_type": "code",
   "execution_count": 2,
   "metadata": {},
   "outputs": [],
   "source": [
    "#loading packages and plot figure layout\n",
    "import pandas as pd\n",
    "from IPython.display import display\n",
    "import numpy as np\n",
    "import matplotlib.pyplot as plt\n",
    "from scipy import optimize"
   ]
  },
  {
   "cell_type": "code",
   "execution_count": 19,
   "metadata": {},
   "outputs": [
    {
     "name": "stdout",
     "output_type": "stream",
     "text": [
      "Optimal labor supply choice for G=1.0: L_star = [15.30161224]\n",
      "Optimal labor supply choice for G=2.0: L_star = [15.30161072]\n"
     ]
    }
   ],
   "source": [
    "import numpy as np\n",
    "from scipy.optimize import minimize\n",
    "\n",
    "def utility_function(L, w, tau, G, kappa, alpha, nu):\n",
    "    C = kappa + (1 - tau) * w * L\n",
    "    return np.log(C**alpha * G**(1 - alpha)) - nu * (L**2 / 2)\n",
    "\n",
    "def optimal_labor_choice(w, tau, G, kappa, alpha, nu):\n",
    "    # Define the objective function to maximize (it is negative due to python only can minimize i think)\n",
    "    objective = lambda L: -utility_function(L, w, tau, G, kappa, alpha, nu)\n",
    "\n",
    "    # Set the bounds for labor supply (L) between 0 and 24\n",
    "    possible_hours = (0, 24)\n",
    "\n",
    " # Provide an initial guess for L \n",
    "    initial_guess = 10\n",
    "\n",
    "    # Use numerical optimization to find the maximum of the utility function\n",
    "    result = minimize(objective, x0=initial_guess, bounds=[possible_hours])\n",
    "\n",
    "    return result.x\n",
    "\n",
    "# Parameters\n",
    "w = 1.0  # Real wage\n",
    "tau = 0.3  # Labor-income tax rate\n",
    "kappa = 1.0  # Free private consumption component\n",
    "alpha = 0.5  # Weight for private consumption\n",
    "nu = 1 / (2*16**2)  # Disutility of labor scaling factor\n",
    "\n",
    "# Values of G to test\n",
    "G_values = [1.0, 2.0]\n",
    "\n",
    "for G in G_values:\n",
    "\n",
    "    # Calculate optimal labor supply choice\n",
    "    L_star = optimal_labor_choice(w, tau, G, kappa, alpha, nu)\n",
    "\n",
    "    print(f\"Optimal labor supply choice for G={G}: L_star = {L_star}\")\n"
   ]
  },
  {
   "cell_type": "code",
   "execution_count": 20,
   "metadata": {},
   "outputs": [
    {
     "name": "stdout",
     "output_type": "stream",
     "text": [
      "The calculated L_star (15.30165022719559) is NOT equal to the optimal labor supply choice for G=1.0 obtained from the optimization.\n",
      "The calculated L_star (15.30165022719559) is NOT equal to the optimal labor supply choice for G=2.0 obtained from the optimization.\n"
     ]
    }
   ],
   "source": [
    "import numpy as np\n",
    "\n",
    "# Parameters\n",
    "w = 1.0  # Real wage\n",
    "tau = 0.3  # Labor-income tax rate\n",
    "kappa = 1.0  # Free private consumption component\n",
    "alpha = 0.5  # Weight for private consumption\n",
    "nu = 1 / (2*(16**2))  # Disutility of labor scaling factor\n",
    "\n",
    "# Values of G to test\n",
    "G_values = [1.0, 2.0]\n",
    "\n",
    "for G in G_values:\n",
    "    # Calculate tilde_w\n",
    "    tilde_w = (1 - tau) * w\n",
    "\n",
    "    # Calculate L_star using the formula\n",
    "    L_star_formula = (-kappa + (kappa**2 + 4 * (alpha / nu) * tilde_w**2)**(1/2)) / (2 * tilde_w)\n",
    "\n",
    "    # Calculate L_star using the numerical optimization\n",
    "    L_star_optimization = optimal_labor_choice(tilde_w, tau, G, kappa, alpha, nu)\n",
    "\n",
    "    # Compare the values\n",
    "    if np.isclose(L_star_formula, L_star_optimization):\n",
    "        print(f\"The calculated L_star ({L_star_formula}) is equal to the optimal labor supply choice for G={G} obtained from the optimization.\")\n",
    "    else:\n",
    "        print(f\"The calculated L_star ({L_star_formula}) is NOT equal to the optimal labor supply choice for G={G} obtained from the optimization.\")\n"
   ]
  }
 ],
 "metadata": {
  "kernelspec": {
   "display_name": "base",
   "language": "python",
   "name": "python3"
  },
  "language_info": {
   "codemirror_mode": {
    "name": "ipython",
    "version": 3
   },
   "file_extension": ".py",
   "mimetype": "text/x-python",
   "name": "python",
   "nbconvert_exporter": "python",
   "pygments_lexer": "ipython3",
   "version": "3.9.16"
  },
  "orig_nbformat": 4,
  "vscode": {
   "interpreter": {
    "hash": "f90a7b205738f394fbc91aed629a4efa870f7bd5b45abcefe5ed06166a9d4a7d"
   }
  }
 },
 "nbformat": 4,
 "nbformat_minor": 2
}
