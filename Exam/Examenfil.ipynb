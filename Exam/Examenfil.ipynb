{
 "cells": [
  {
   "attachments": {},
   "cell_type": "markdown",
   "metadata": {},
   "source": [
    "**Table of contents**<a id='toc0_'></a>    \n",
    "- 1. [Problem 1: Optimal taxation with government consumption](#toc1_)    \n",
    "- 2. [Problem 2: Labor adjustment costs](#toc2_)    \n",
    "- 3. [Problem 3: Global optimizer with refined multi-start](#toc3_)    \n",
    "\n",
    "<!-- vscode-jupyter-toc-config\n",
    "\tnumbering=true\n",
    "\tanchor=true\n",
    "\tflat=false\n",
    "\tminLevel=2\n",
    "\tmaxLevel=6\n",
    "\t/vscode-jupyter-toc-config -->\n",
    "<!-- THIS CELL WILL BE REPLACED ON TOC UPDATE. DO NOT WRITE YOUR TEXT IN THIS CELL -->"
   ]
  },
  {
   "cell_type": "code",
   "execution_count": 114,
   "metadata": {},
   "outputs": [],
   "source": [
    "#loading packages and plot figure layout\n",
    "import pandas as pd\n",
    "from IPython.display import display\n",
    "import numpy as np\n",
    "from scipy.optimize import minimize\n",
    "import matplotlib.pyplot as plt\n",
    "from scipy import optimize\n",
    "import Exam1 as note"
   ]
  },
  {
   "attachments": {},
   "cell_type": "markdown",
   "metadata": {},
   "source": [
    "## 1. <a id='toc1_'></a>[Problem 1: Optimal taxation with government consumption](#toc0_)"
   ]
  },
  {
   "attachments": {},
   "cell_type": "markdown",
   "metadata": {},
   "source": [
    "\n",
    "Consider a worker choosing hours of labor, $L\\in[0,24]$, to maximize utility: \n",
    "\n",
    "$$\n",
    "\\begin{align*}\n",
    "V(w,\\tau,G)&=\\max_{L\\in[0,24]}\\ln\\left(C^{\\alpha}G^{1-\\alpha}\\right)-\\nu\\frac{L^{2}}{2}\\\\&\\text{s.t.}\\\\&C=\\kappa+(1-\\tau)wL\n",
    "\\end{align*}\n",
    "$$\n",
    "\n",
    "where \n",
    "\n",
    "* $C$ is *private* consumption with weight $\\alpha\\in(0,1)$.\n",
    "* $\\kappa > 0$ is the *free private* consumption component.\n",
    "* $C = (1-\\tau)wL$ is the *costly private* consumption component.\n",
    "* $w > 0 $ is the real wage.\n",
    "* $\\tau \\in (0,1)$ is the labor-income tax rate.\n",
    "* $G > 0 $ is *government* consumption with weight $1-\\alpha$.\n",
    "* $\\nu > 0$ is the disutility of labor scaling factor"
   ]
  },
  {
   "attachments": {},
   "cell_type": "markdown",
   "metadata": {},
   "source": [
    "\n",
    "The baseline parameters are:\n",
    "\n",
    "$$\n",
    "\\begin{align*}\n",
    "\\alpha &= 0.5\\\\\n",
    "\\kappa &= 1.0\\\\\n",
    "\\nu &= \\frac{1}{2\\cdot16^2} \\\\\n",
    "w &= 1.0 \\\\ \n",
    "\\tau &= 0.30 \\\\\n",
    "\\end{align*}\n",
    "$$"
   ]
  },
  {
   "attachments": {},
   "cell_type": "markdown",
   "metadata": {},
   "source": [
    "**Question 1:** Verify that the optimal labor supply choice is $L^{\\star}(\\tilde{w}) =\\frac{-\\kappa+\\sqrt{\\kappa^{2}+4\\frac{\\alpha}{\\nu}\\tilde{w}^2}}{2\\tilde{w}}$, where $\\tilde{w} = (1-\\tau)w$, for $G\\in\\left\\{1.0 , 2.0\\right\\}$."
   ]
  },
  {
   "cell_type": "code",
   "execution_count": 115,
   "metadata": {},
   "outputs": [
    {
     "name": "stdout",
     "output_type": "stream",
     "text": [
      "Optimal labor supply choice for G=1.0: L_star = [15.30161224]\n",
      "Optimal labor supply choice for G=2.0: L_star = [15.30161772]\n"
     ]
    }
   ],
   "source": [
    "def utility_function(L, w, tau, G, kappa, alpha, nu):\n",
    "    C = kappa + (1 - tau) * w * L\n",
    "    return np.log(C**alpha * G**(1 - alpha)) - nu * (L**2 / 2)\n",
    "\n",
    "def optimal_labor_choice(w, tau, G, kappa, alpha, nu):\n",
    "    # Define the objective function to maximize (it is negative due to python only can minimize i think)\n",
    "    objective = lambda L: -utility_function(L, w, tau, G, kappa, alpha, nu)\n",
    "\n",
    "    # Set the bounds for labor supply (L) between 0 and 24\n",
    "    possible_hours = (0, 24)\n",
    "\n",
    " # Provide an initial guess for L \n",
    "    initial_guess = 10\n",
    "\n",
    "    # Use numerical optimization to find the maximum of the utility function\n",
    "    result = minimize(objective, x0=initial_guess, bounds=[possible_hours])\n",
    "\n",
    "    return result.x\n",
    "\n",
    "# Parameters\n",
    "w = 1.0  # Real wage\n",
    "tau = 0.3  # Labor-income tax rate\n",
    "kappa = 1.0  # Free private consumption component\n",
    "alpha = 0.5  # Weight for private consumption\n",
    "nu = 1 / (2*16**2)  # Disutility of labor scaling factor\n",
    "\n",
    "# Values of G to test\n",
    "G_values = [1.0, 2.0]\n",
    "\n",
    "for G in G_values:\n",
    "\n",
    "    # Calculate optimal labor supply choice\n",
    "    L_star = optimal_labor_choice(w, tau, G, kappa, alpha, nu)\n",
    "\n",
    "    print(f\"Optimal labor supply choice for G={G}: L_star = {L_star}\")"
   ]
  },
  {
   "cell_type": "code",
   "execution_count": 116,
   "metadata": {},
   "outputs": [
    {
     "name": "stdout",
     "output_type": "stream",
     "text": [
      "The calculated L_star (15.30165022719559) is NOT equal to the optimal labor supply choice for G=1.0 obtained from the optimization.\n",
      "The calculated L_star (15.30165022719559) is NOT equal to the optimal labor supply choice for G=2.0 obtained from the optimization.\n"
     ]
    }
   ],
   "source": [
    "# Parameters\n",
    "w = 1.0  # Real wage\n",
    "tau = 0.3  # Labor-income tax rate\n",
    "kappa = 1.0  # Free private consumption component\n",
    "alpha = 0.5  # Weight for private consumption\n",
    "nu = 1 / (2*(16**2))  # Disutility of labor scaling factor\n",
    "\n",
    "# Values of G to test\n",
    "G_values = [1.0, 2.0] \n",
    "\n",
    "for G in G_values:\n",
    "    # Calculate tilde_w\n",
    "    tilde_w = (1 - tau) * w\n",
    "\n",
    "    # Calculate L_star using the formula\n",
    "    L_star_formula = (-kappa + (kappa**2 + 4 * (alpha / nu) * tilde_w**2)**(1/2)) / (2 * tilde_w)\n",
    "\n",
    "    # Calculate L_star using the numerical optimization\n",
    "    L_star_optimization = optimal_labor_choice(tilde_w, tau, G, kappa, alpha, nu)\n",
    "\n",
    "    # Compare the values\n",
    "    if np.isclose(L_star_formula, L_star_optimization):\n",
    "        print(f\"The calculated L_star ({L_star_formula}) is equal to the optimal labor supply choice for G={G} obtained from the optimization.\")\n",
    "    else:\n",
    "        print(f\"The calculated L_star ({L_star_formula}) is NOT equal to the optimal labor supply choice for G={G} obtained from the optimization.\")\n"
   ]
  },
  {
   "attachments": {},
   "cell_type": "markdown",
   "metadata": {},
   "source": [
    "**Question 2:** Illustrate how $L^{\\star}(\\tilde{w})$ depends on $w$."
   ]
  },
  {
   "cell_type": "code",
   "execution_count": 121,
   "metadata": {},
   "outputs": [
    {
     "data": {
      "image/png": "[encoded data removed]",
      "text/plain": [
       "<Figure size 640x480 with 1 Axes>"
      ]
     },
     "metadata": {},
     "output_type": "display_data"
    }
   ],
   "source": [
    "# Range of wage values\n",
    "wage_values = np.linspace(0.1, 2.0, 100)\n",
    "\n",
    "# Calculate optimal labor supply for each wage value\n",
    "optimal_labor_values = [optimal_labor_choice(w, tau, G, kappa, alpha, nu) for w in wage_values]\n",
    "\n",
    "# Plotting the results\n",
    "plt.plot(wage_values, optimal_labor_values, color='blue', linewidth=2)\n",
    "plt.xlabel('Wage (w)', fontsize=12)\n",
    "plt.ylabel('Optimal Labour Supply (L*)', fontsize=12)\n",
    "plt.title('Optimal Labour Supply vs. Wage', fontsize=14)\n",
    "plt.grid(True)\n",
    "plt.xticks(fontsize=10)\n",
    "plt.yticks(fontsize=10)\n",
    "plt.ylim(10, 16)\n",
    "plt.xlim(0, 2.1)\n",
    "plt.tight_layout()\n",
    "plt.show()"
   ]
  },
  {
   "attachments": {},
   "cell_type": "markdown",
   "metadata": {},
   "source": [
    "\n",
    "We now consider a government, who chooses $\\tau$ and spend all of the taxes on government consumption so:\n",
    "\n",
    "$$\n",
    "G = \\tau w L^{\\star}((1-\\tau)w)\n",
    "$$\n",
    "\n",
    "**Question 3:** Plot the implied $L$, $G$ and worker utility for a grid of $\\tau$-values.\n"
   ]
  },
  {
   "cell_type": "code",
   "execution_count": 118,
   "metadata": {},
   "outputs": [
    {
     "data": {
      "image/png": "[encoded data removed]",
      "text/plain": [
       "<Figure size 1000x600 with 3 Axes>"
      ]
     },
     "metadata": {},
     "output_type": "display_data"
    }
   ],
   "source": [
    "# Grid of tau values\n",
    "tau_values = np.linspace(0.1, 0.9, 100)\n",
    "\n",
    "# Initialize arrays to store the results\n",
    "L_values = np.zeros_like(tau_values)\n",
    "G_values = np.zeros_like(tau_values)\n",
    "utility_values = np.zeros_like(tau_values)\n",
    "\n",
    "# Calculate L, G, and utility for each tau value\n",
    "for i, tau in enumerate(tau_values):\n",
    "\n",
    "    # Calculate optimal labor supply choice (L*)\n",
    "    L_star = optimal_labor_choice(w, tau, G, kappa, alpha, nu)\n",
    "\n",
    "    # Calculate government consumption (G)\n",
    "    G = tau * w * L_star * ((1 - tau)*w)\n",
    "\n",
    "    # Calculate utility (V)\n",
    "    utility = utility_function(L_star, w, tau, G, kappa, alpha, nu)\n",
    "\n",
    "    # Store the values in the arrays\n",
    "    L_values[i] = L_star\n",
    "    G_values[i] = G\n",
    "    utility_values[i] = utility\n",
    "\n",
    "# Plotting the results\n",
    "plt.figure(figsize=(10, 6))\n",
    "\n",
    "# Plot of L vs. tau\n",
    "plt.subplot(2, 2, 1)\n",
    "plt.plot(tau_values, L_values, color='blue')\n",
    "plt.xlabel('tau', fontsize=12)\n",
    "plt.ylabel('Labor Supply (L)', fontsize=12)\n",
    "plt.title('Labor Supply vs. tau', fontsize=14)\n",
    "plt.grid(True)\n",
    "\n",
    "# Plot of G vs. tau\n",
    "plt.subplot(2, 2, 2)\n",
    "plt.plot(tau_values, G_values, color='green')\n",
    "plt.xlabel('tau', fontsize=12)\n",
    "plt.ylabel('Government Consumption (G)', fontsize=12)\n",
    "plt.title('Government Consumption vs. tau', fontsize=14)\n",
    "plt.grid(True)\n",
    "\n",
    "# Plot of utility vs. tau\n",
    "plt.subplot(2, 1, 2)\n",
    "plt.plot(tau_values, utility_values, color='purple')\n",
    "plt.xlabel('tau', fontsize=12)\n",
    "plt.ylabel('Utility (V)', fontsize=12)\n",
    "plt.title('Worker Utility vs. tau', fontsize=14)\n",
    "plt.grid(True)\n",
    "\n",
    "# Adjust the spacing between subplots\n",
    "plt.tight_layout()\n",
    "\n",
    "# Show the plots\n",
    "plt.show()\n"
   ]
  },
  {
   "attachments": {},
   "cell_type": "markdown",
   "metadata": {},
   "source": [
    "**Question 4:** Find the socially optimal tax rate $\\tau^{\\star}\\in(0,1)$ maximizing worker utility. Illustrate your result."
   ]
  },
  {
   "cell_type": "code",
   "execution_count": 120,
   "metadata": {},
   "outputs": [
    {
     "name": "stderr",
     "output_type": "stream",
     "text": [
      "/var/folders/h3/vprp8kkx5rb9xcjqgg0mgkpm0000gp/T/ipykernel_13430/2560597859.py:4: RuntimeWarning: divide by zero encountered in log\n",
      "  return np.log(C**alpha * G**(1 - alpha)) - nu * (L_star**2 / 2)\n"
     ]
    },
    {
     "name": "stdout",
     "output_type": "stream",
     "text": [
      "The socially optimal tax level τ* = [0.3]\n"
     ]
    },
    {
     "data": {
      "image/png": "[encoded data removed]",
      "text/plain": [
       "<Figure size 640x480 with 1 Axes>"
      ]
     },
     "metadata": {},
     "output_type": "display_data"
    },
    {
     "ename": "IndexError",
     "evalue": "invalid index to scalar variable.",
     "output_type": "error",
     "traceback": [
      "\u001b[0;31m---------------------------------------------------------------------------\u001b[0m",
      "\u001b[0;31mIndexError\u001b[0m                                Traceback (most recent call last)",
      "Cell \u001b[0;32mIn[120], line 60\u001b[0m\n\u001b[1;32m     57\u001b[0m plt\u001b[39m.\u001b[39mgrid(\u001b[39mTrue\u001b[39;00m)\n\u001b[1;32m     58\u001b[0m plt\u001b[39m.\u001b[39mshow()\n\u001b[0;32m---> 60\u001b[0m \u001b[39mprint\u001b[39m(\u001b[39mf\u001b[39m\u001b[39m\"\u001b[39m\u001b[39mThe socially optimal tax level τ* = \u001b[39m\u001b[39m{\u001b[39;00moptimal_tau[\u001b[39m0\u001b[39;49m]\u001b[39m}\u001b[39;00m\u001b[39m\"\u001b[39m)\n",
      "\u001b[0;31mIndexError\u001b[0m: invalid index to scalar variable."
     ]
    }
   ],
   "source": [
    "def new_utility_function(L_star, w, tau, kappa, alpha, nu):\n",
    "    G = tau * w * L_star * ((1 - tau)*w)\n",
    "    C = kappa + (1 - tau) * w * L_star\n",
    "    return np.log(C**alpha * G**(1 - alpha)) - nu * (L_star**2 / 2)\n",
    "\n",
    "def new_optimal_labor_choice(w, kappa, alpha, nu):\n",
    "    # Define the objective function to maximize (it is negative due to python only can minimize i think)\n",
    "    objective_tau = lambda tau: -new_utility_function(L_star, w, tau, kappa, alpha, nu)\n",
    "    # Set the bounds for labor supply (L) between 0 and 24\n",
    "    possible_tax = (0, 1)\n",
    "\n",
    " # Provide an initial guess for L \n",
    "    initial_guess = 0.3\n",
    "\n",
    "    # Use numerical optimization to find the maximum of the utility function\n",
    "    result_tau = minimize(objective_tau, x0=initial_guess, bounds=[possible_tax])\n",
    "\n",
    "    return result_tau.x\n",
    "\n",
    "tau_star = new_optimal_labor_choice(w, kappa, alpha, nu)\n",
    "print(f\"The socially optimal tax level τ* = {tau_star}\")\n",
    "\n",
    "\n",
    "\n",
    "# Grid of tau values\n",
    "tau_values = np.linspace(0.1, 0.9, 100)\n",
    "\n",
    "# Initialize array to store utility values\n",
    "utility_values = np.zeros_like(tau_values)\n",
    "\n",
    "# Calculate utility for each tau value\n",
    "for i, tau in enumerate(tau_values):\n",
    "    # Calculate optimal labor supply choice (L*)\n",
    "    L_star = new_optimal_labor_choice(w, kappa, alpha, nu)\n",
    "\n",
    "    # Calculate utility\n",
    "    utility = new_utility_function(L_star, w, tau, kappa, alpha, nu)\n",
    "\n",
    "    # Store the utility value, ensuring non-negative values\n",
    "    utility_values[i] = max(utility, 0)\n",
    "\n",
    "# Find the index of the maximum utility\n",
    "max_utility_index = np.argmax(utility_values)\n",
    "\n",
    "# Get the corresponding optimal tax rate\n",
    "optimal_tau = tau_values[max_utility_index]\n",
    "optimal_utility = utility_values[max_utility_index]\n",
    "\n",
    "# Plotting the results\n",
    "plt.plot(tau_values, utility_values)\n",
    "plt.scatter(optimal_tau, optimal_utility, color='r', label='Optimal τ*', zorder=5)\n",
    "plt.annotate(r'$\\tau^*$', xy=(optimal_tau, optimal_utility), xytext=(optimal_tau + 0.02, optimal_utility), color='black', fontsize=12)\n",
    "plt.xlabel('tau')\n",
    "plt.ylabel('Utility')\n",
    "plt.title('Utility vs. tau')\n",
    "plt.legend()\n",
    "plt.grid(True)\n",
    "plt.show()\n",
    "\n",
    "print(f\"The socially optimal tax level τ* = {optimal_tau[0]}\")\n",
    "\n"
   ]
  },
  {
   "attachments": {},
   "cell_type": "markdown",
   "metadata": {},
   "source": [
    "A more general preference formulation for the worker is:\n",
    "\n",
    "$$\n",
    "\\begin{align*}\n",
    "\\mathcal{V}(w,\\tau,G)&=\\max_{L\\in[0,24]}\\frac{\\left[ \\left( \\alpha C^{\\frac{\\sigma-1}{\\sigma}}+(1-\\alpha) G^{\\frac{\\sigma-1}{\\sigma}} \\right)^{\\frac{\\sigma}{1-\\sigma} }\\right]^{1-\\rho}-1}{1-\\rho}- \\nu\\frac{L^{1+\\varepsilon}}{1+\\varepsilon},\\,\\,\\,\\varepsilon,\\rho,\\sigma>0,\\,\\,\\,\\rho,\\sigma\\neq1\\\\&\\text{s.t.}\\\\&C=\\kappa+(1-\\tau)wL\n",
    "\\end{align*}    \n",
    "$$\n",
    "\n",
    "Optimal labor supply is now $L^{\\star}(\\tilde{w},G)$."
   ]
  },
  {
   "attachments": {},
   "cell_type": "markdown",
   "metadata": {},
   "source": [
    "Questions 5 and 6 must be answered with the general formulation, and for 2 different set of parameters:\n",
    "\n",
    "- Set 1:  $\\sigma = 1.001$, $\\rho = 1.001$ and $\\varepsilon = 1.0$.\n",
    "- Set 2:  $\\sigma = 1.5$, $\\rho = 1.5$ and $\\varepsilon = 1.0 $."
   ]
  },
  {
   "attachments": {},
   "cell_type": "markdown",
   "metadata": {},
   "source": [
    "**Question 5:** Find the $G$ that solves $G = \\tau w L^{\\star}((1-\\tau)w,G)$ using the $\\tau$ found in question 4.\n",
    "\n",
    "*Hint: First write code that solves the worker problem for given values of $G$ and $\\tau$. Then find the correct G based on this.*"
   ]
  },
  {
   "cell_type": "code",
   "execution_count": null,
   "metadata": {},
   "outputs": [],
   "source": [
    "def worker_problem(G, tau, w, kappa, alpha, nu, sigma, rho, epsilon):\n",
    "    # Define the objective function to maximize\n",
    "    objective = lambda L: -(((alpha * (kappa + (1 - tau_star) * w * L) ** ((sigma - 1) / sigma) + (1 - alpha) * G ** ((sigma - 1) / sigma)) ** (sigma / (1 - sigma))) ** (1 - rho) - 1) / (1 - rho) - nu * (L ** (1 + epsilon)) / (1 + epsilon)\n",
    "\n",
    "    # Set the bounds for labor supply (L) between 0 and 24\n",
    "    possible_hours = (0, 24)\n",
    "\n",
    "    # Provide an initial guess for L\n",
    "    initial_guess = 10\n",
    "\n",
    "    # Use numerical optimization to find the maximum of the objective function\n",
    "    result = minimize(objective, x0=initial_guess, bounds=[possible_hours])\n",
    "\n",
    "    \n",
    "\n",
    "    return result.x[0]\n",
    "\n",
    "\n",
    "# Parameters for Set 1\n",
    "sigma1 = 1.001\n",
    "rho1 = 1.001\n",
    "epsilon1 = 1.0\n",
    "\n",
    "# Parameters for Set 2\n",
    "sigma2 = 1.5\n",
    "rho2 = 1.5\n",
    "epsilon2 = 1.0\n",
    "\n",
    "# Solve for G using the optimal tax rate tau_star from question 4\n",
    "tau_star = tau_star  # Use the optimal tax rate from question 4\n",
    "\n",
    "# Solve for G using the worker problem and tau_star for Set 1\n",
    "G_set1 = optimize.root(lambda G: G - tau_star * w * worker_problem(G, tau_star, w, kappa, alpha, nu, sigma1, rho1, epsilon1), x0=1).x[0]\n",
    "\n",
    "# Solve for G using the worker problem and tau_star for Set 2\n",
    "G_set2 = optimize.root(lambda G: G - tau_star * w * worker_problem(G, tau_star, w, kappa, alpha, nu, sigma2, rho2, epsilon2), x0=1).x[0]\n",
    "\n",
    "print(f\"For Set 1: G = {G_set1}\")\n",
    "print(f\"For Set 2: G = {G_set2}\")"
   ]
  },
  {
   "attachments": {},
   "cell_type": "markdown",
   "metadata": {},
   "source": [
    "**Question 6:** Find the socially optimal tax rate, $\\tau^{\\star}$, maximizing worker utility, while keeping $G = \\tau w L^{\\star}((1-\\tau)w,G)$."
   ]
  },
  {
   "cell_type": "code",
   "execution_count": null,
   "metadata": {},
   "outputs": [],
   "source": [
    "def objective_function(tau, w, kappa, alpha, nu, sigma, rho, epsilon):\n",
    "    # Solve for G using the worker problem and current tau\n",
    "    G = tau * w * worker_problem(G=1, tau=tau, w=w, kappa=kappa, alpha=alpha, nu=nu, sigma=sigma, rho=rho, epsilon=epsilon)\n",
    "\n",
    "    # Calculate worker utility\n",
    "    utility = -((alpha * (kappa + (1 - tau) * w * L_star) ** ((sigma - 1) / sigma) + (1 - alpha) * G ** ((sigma - 1) / sigma)) ** (sigma / (1 - sigma))) ** (1 - rho) / (1 - rho) - nu * (L_star ** (1 + epsilon)) / (1 + epsilon)\n",
    "\n",
    "    # Calculate the difference between G and the right-hand side of the equation\n",
    "    difference = G - tau * w * L_star\n",
    "\n",
    "    # Return the negative utility (to maximize) and the difference\n",
    "    return -utility, difference\n",
    "\n",
    "\n",
    "# Parameters for Set 1\n",
    "sigma1 = 1.001\n",
    "rho1 = 1.001\n",
    "epsilon1 = 1.0\n",
    "\n",
    "# Parameters for Set 2\n",
    "sigma2 = 1.5\n",
    "rho2 = 1.5\n",
    "epsilon2 = 1.0\n",
    "\n",
    "# Find the socially optimal tax rate for Set 1\n",
    "result_set1 = minimize(lambda tau: objective_function(tau, w, kappa, alpha, nu, sigma1, rho1, epsilon1)[0], x0=0.5, bounds=[(0, 1)])\n",
    "tau_star_set1 = result_set1.x[0]\n",
    "\n",
    "# Find the socially optimal tax rate for Set 2\n",
    "result_set2 = minimize(lambda tau: objective_function(tau, w, kappa, alpha, nu, sigma2, rho2, epsilon2)[0], x0=0.5, bounds=[(0, 1)])\n",
    "tau_star_set2 = result_set2.x[0]\n",
    "\n",
    "print(f\"For Set 1: G = {tau_star_set1}\")\n",
    "print(f\"For Set 2: G = {tau_star_set2}\")\n"
   ]
  },
  {
   "attachments": {},
   "cell_type": "markdown",
   "metadata": {},
   "source": [
    "## 2. <a id='toc2_'></a>[Problem 2: Labor adjustment costs](#toc0_)"
   ]
  },
  {
   "attachments": {},
   "cell_type": "markdown",
   "metadata": {},
   "source": [
    "You own a hair salon. You employ hairdressers, $\\ell_t$, to produce haircuts, $y_t = \\ell_t$.\n",
    "\n",
    "The wage for each haridresser is $w$.\n",
    "\n",
    "The demand for haircuts implies that the price of haircuts you can charge is $p_t = \\kappa_t y_t^{-\\eta}$, where $\\kappa_t$ is a demand-shock and $\\eta \\in (0,1)$ measures the elasticity of demand.\n",
    "\n",
    "Profits are:\n",
    "\n",
    "$$\n",
    "\\Pi_t = p_t y_t - w \\ell_t = \\kappa_t \\ell_t^{1-\\eta} - w \\ell_t\n",
    "$$"
   ]
  },
  {
   "attachments": {},
   "cell_type": "markdown",
   "metadata": {},
   "source": [
    "Baseline parameters are:\n",
    "- $\\eta = 0.5$\n",
    "- $w = 1.0$"
   ]
  },
  {
   "attachments": {},
   "cell_type": "markdown",
   "metadata": {},
   "source": [
    "**Question 1:** Verify numerically that $\\ell_{t}=\\left(\\frac{(1-\\eta)\\kappa_{t}}{w}\\right)^{\\frac{1}{\\eta}}$ maximises profits, for $\\kappa\\in\\left\\{1.0 , 2.0\\right\\}$."
   ]
  },
  {
   "cell_type": "code",
   "execution_count": null,
   "metadata": {},
   "outputs": [],
   "source": [
    "# write your code here"
   ]
  },
  {
   "attachments": {},
   "cell_type": "markdown",
   "metadata": {},
   "source": [
    "We now consider a *dynamic* version of the model.\n",
    "\n",
    "* The demand-shock is a so-called AR(1) in logs, \n",
    "\n",
    "$$\n",
    "\\log \\kappa_{t} = \\rho \\log \\kappa_{t-1} + \\epsilon_{t},\\,\\,\\, \\epsilon_{t+1} \\sim \\mathcal{N}(-0.5\\sigma_{\\epsilon}^2,\\sigma_{\\epsilon})\n",
    "$$\n",
    "\n",
    "* Any hiring or firing implies a fixed adjustment cost, $\\iota > 0 $.\n",
    "* Future profits are discounted with a monthly factor of $R \\in (0,1)$.\n",
    "\n",
    "The initial demand shock is $\\kappa_{-1} = 1$ and the planning horizon is 10 years, i.e. 120 months so $t \\in \\{0,1,2,\\dots,119\\}$. Initially you don't have any employees, $\\ell_{-1}=0$"
   ]
  },
  {
   "attachments": {},
   "cell_type": "markdown",
   "metadata": {},
   "source": [
    "\n",
    "The *ex post* value of the salon is *conditional* on the shock series is:\n",
    "\n",
    "$$\n",
    "h(\\epsilon_0,\\epsilon_1,\\dots,\\epsilon_{119}) = \\left[\\sum_{t=0}^{119}R^{-t}\\left[\\kappa_{t}\\ell_{t}^{1-\\eta}-w\\ell_{t}-\\boldsymbol{1}_{\\ell_{t}\\neq\\ell_{t-1}}\\iota\\right]\\right]\n",
    "$$\n",
    "\n",
    "The *ex ante* expected value of the salon can be approximated by\n",
    "\n",
    "$$\n",
    "H = \\mathbb{E}[h(\\epsilon_0,\\epsilon_1,\\dots,\\epsilon_{119})] \\approx \\frac{1}{K}\\sum_{k=0}^{K} h(\\epsilon_0^k,\\epsilon_1^k,\\dots,\\epsilon_{119}^k)\n",
    "$$\n",
    "\n",
    "where each $k\\in\\{0,1,\\dots,K-1\\}$ is a random shock series. Maximizing profitability means maximizing $H$.\n"
   ]
  },
  {
   "attachments": {},
   "cell_type": "markdown",
   "metadata": {},
   "source": [
    "Baseline parameters are: \n",
    "\n",
    "- $\\rho = 0.90$\n",
    "- $\\iota = 0.01$\n",
    "- $\\sigma_{\\epsilon} = 0.10$\n",
    "- $R = \\left(1+0.01\\right)^{1/12}$"
   ]
  },
  {
   "attachments": {},
   "cell_type": "markdown",
   "metadata": {},
   "source": [
    "**Question 2:** Calculate $H$ if the policy  $\\ell_{t}=\\left(\\frac{(1-\\eta)\\kappa_{t}}{w}\\right)^{\\frac{1}{\\eta}}$ from question 1 is followed. Choose $K$ so the approximation is good enough to not affect your results substantially."
   ]
  },
  {
   "cell_type": "code",
   "execution_count": null,
   "metadata": {},
   "outputs": [],
   "source": [
    "# write your code here "
   ]
  },
  {
   "attachments": {},
   "cell_type": "markdown",
   "metadata": {},
   "source": [
    "Next, we consider policies on the form:\n",
    "\n",
    "$$\n",
    "\n",
    "\\ell_{t}=\\begin{cases}\n",
    "\\ell_t^{\\ast}  & \\text{if }\\left|\\ell_{t-1}-\\ell_t^{\\ast} \\right|>\\Delta\\\\\n",
    "\\ell_{t-1} & \\text{else }\n",
    "\\end{cases}\n",
    "\\\\\n",
    "\\text{where}\\,\\,\\ell_t^{\\ast} = \\left(\\frac{(1-\\eta)\\kappa_{t}}{w}\\right)^{\\frac{1}{\\eta}} \\\\\n",
    "\n",
    "$$\n",
    "With $\\Delta \\geq 0$ and $\\Delta = 0$ being the previous policy.\n"
   ]
  },
  {
   "attachments": {},
   "cell_type": "markdown",
   "metadata": {},
   "source": [
    "\n",
    "**Question 3:** Calculate $H$ if the policy above was followed with $\\Delta = 0.05$. Does it improve profitability?"
   ]
  },
  {
   "cell_type": "code",
   "execution_count": null,
   "metadata": {},
   "outputs": [],
   "source": [
    "# write your code here"
   ]
  },
  {
   "attachments": {},
   "cell_type": "markdown",
   "metadata": {},
   "source": [
    "**Question 4:** Find the optimal $\\Delta$ maximizing $H$. Illustrate your result."
   ]
  },
  {
   "cell_type": "code",
   "execution_count": null,
   "metadata": {},
   "outputs": [],
   "source": [
    "# write your code here"
   ]
  },
  {
   "attachments": {},
   "cell_type": "markdown",
   "metadata": {},
   "source": [
    "\n",
    "**Question 5:** Suggest an alternative policy you believe might improve profitability. Implement and test your policy.\n",
    "\n"
   ]
  },
  {
   "cell_type": "code",
   "execution_count": null,
   "metadata": {},
   "outputs": [],
   "source": [
    "# write your code here"
   ]
  },
  {
   "attachments": {},
   "cell_type": "markdown",
   "metadata": {},
   "source": [
    "## 3. <a id='toc3_'></a>[Problem 3: Global optimizer with refined multi-start](#toc0_)"
   ]
  },
  {
   "attachments": {},
   "cell_type": "markdown",
   "metadata": {},
   "source": [
    "We consider the Griewank function:\n",
    "\n",
    "$$ f(\\boldsymbol{x}) = \\sum^n_{i=1} \\frac{x^2_i}{4000}-\\prod^n_{i=1}\\cos\\left(\\frac{x_i}{\\sqrt{i}}\\right)+1$$\n",
    "\n",
    "The **global minimum** of this function is $f(0,0) = 0$ (remember: $\\cos(0)=1$).<br>\n",
    "But the function also have a lot of **local minima**."
   ]
  },
  {
   "cell_type": "code",
   "execution_count": null,
   "metadata": {},
   "outputs": [],
   "source": [
    "def griewank(x):\n",
    "    return griewank_(x[0],x[1])\n",
    "    \n",
    "def griewank_(x1,x2):\n",
    "    A = x1**2/4000 + x2**2/4000\n",
    "    B = np.cos(x1/np.sqrt(1))*np.cos(x2/np.sqrt(2))\n",
    "    return A-B+1"
   ]
  },
  {
   "attachments": {},
   "cell_type": "markdown",
   "metadata": {},
   "source": [
    "A **refined global optimizer with multi-start** is:\n",
    "\n",
    "1. Choose *bounds* for $\\mathbf{x}$ and *tolerance* $\\tau > 0$.\n",
    "2. Choose number of *warm-up iterations*, $\\underline{K} > 0$ and *maximum number of iterations*, $K > \\underline{K}$.\n",
    "3. In each iteration for $k \\in \\{0,1,\\dots,K-1\\}$:\n",
    "\n",
    "    A. Draw random $\\mathbf{x}^k$ uniformly within chosen bounds.\n",
    "\n",
    "    B. If $k < \\underline{K}$ go to step E.\n",
    "\n",
    "    C. Calculate $\\chi^k = 0.50\\cdot\\frac{2}{1+\\exp((k-\\underline{K})/100)}$  \n",
    "\n",
    "    D. Set $\\mathbf{x}^{k0} = \\chi^k \\mathbf{x}^k + (1-\\chi^k)\\mathbf{x}^{\\ast} $\n",
    "\n",
    "    E. Run optimizer with $\\mathbf{x}^{k0}$ as initial guess and $\\mathbf{x}^{k\\ast}$ as result.\n",
    "\n",
    "    F. Set $\\mathbf{x}^{\\ast} = \\mathbf{x}^{k\\ast}$ if $k = 0$ or $f(\\mathbf{x}^{k\\ast}) < f(\\mathbf{x}^{\\ast})$\n",
    "\n",
    "    G. If $f(\\mathbf{x}^{\\ast}) < \\tau$ go to step 4.\n",
    "\n",
    "4. Return the result $\\mathbf{x}^{\\ast}$."
   ]
  },
  {
   "attachments": {},
   "cell_type": "markdown",
   "metadata": {},
   "source": [
    "As settings we choose:\n",
    "\n",
    "* $x_1,x_2 \\in  [-600,600]$\n",
    "* $\\tau = 10^{-8}$\n",
    "* $\\underline{K}=10$\n",
    "* $K=1000$\n",
    "\n",
    "The optimizer in Step 3.E is `BFGS` with a tolerance of $\\tau$."
   ]
  },
  {
   "attachments": {},
   "cell_type": "markdown",
   "metadata": {},
   "source": [
    "**Question 1:** Implement the refined global optimizer with multi-start. Illustrate how the effective initial guesses $\\mathbf{x}^{k0}$ vary with the iteration counter $k$."
   ]
  },
  {
   "cell_type": "code",
   "execution_count": null,
   "metadata": {},
   "outputs": [],
   "source": [
    "# write your code here"
   ]
  },
  {
   "attachments": {},
   "cell_type": "markdown",
   "metadata": {},
   "source": [
    "**Question 2:** Is it a better idea to set $\\underline{K} = 100$? Is the convergence faster?"
   ]
  },
  {
   "cell_type": "code",
   "execution_count": null,
   "metadata": {},
   "outputs": [],
   "source": [
    "# write your code here"
   ]
  }
 ],
 "metadata": {
  "kernelspec": {
   "display_name": "base",
   "language": "python",
   "name": "python3"
  },
  "language_info": {
   "codemirror_mode": {
    "name": "ipython",
    "version": 3
   },
   "file_extension": ".py",
   "mimetype": "text/x-python",
   "name": "python",
   "nbconvert_exporter": "python",
   "pygments_lexer": "ipython3",
   "version": "3.10.10"
  },
  "orig_nbformat": 4
 },
 "nbformat": 4,
 "nbformat_minor": 2
}
