{
 "cells": [
  {
   "attachments": {},
   "cell_type": "markdown",
   "metadata": {},
   "source": [
    "**Table of contents**<a id='toc0_'></a>    \n",
    "- 1. [Problem 1: Optimal taxation with government consumption](#toc1_)    \n",
    "- 2. [Problem 2: Labor adjustment costs](#toc2_)    \n",
    "- 3. [Problem 3: Global optimizer with refined multi-start](#toc3_)    \n",
    "\n",
    "<!-- vscode-jupyter-toc-config\n",
    "\tnumbering=true\n",
    "\tanchor=true\n",
    "\tflat=false\n",
    "\tminLevel=2\n",
    "\tmaxLevel=6\n",
    "\t/vscode-jupyter-toc-config -->\n",
    "<!-- THIS CELL WILL BE REPLACED ON TOC UPDATE. DO NOT WRITE YOUR TEXT IN THIS CELL -->"
   ]
  },
  {
   "cell_type": "code",
   "execution_count": 65,
   "metadata": {},
   "outputs": [],
   "source": [
    "# We start by importing our workbooks and packages\n",
    "import examproblem2 as p2\n",
    "\n",
    "import numpy as np\n",
    "from scipy.optimize import minimize\n",
    "import matplotlib.pyplot as plt"
   ]
  },
  {
   "attachments": {},
   "cell_type": "markdown",
   "metadata": {},
   "source": [
    "## 1. <a id='toc1_'></a>[Problem 1: Optimal taxation with government consumption](#toc0_)"
   ]
  },
  {
   "attachments": {},
   "cell_type": "markdown",
   "metadata": {},
   "source": [
    "\n",
    "Consider a worker choosing hours of labor, $L\\in[0,24]$, to maximize utility: \n",
    "\n",
    "$$\n",
    "\\begin{align*}\n",
    "V(w,\\tau,G)&=\\max_{L\\in[0,24]}\\ln\\left(C^{\\alpha}G^{1-\\alpha}\\right)-\\nu\\frac{L^{2}}{2}\\\\&\\text{s.t.}\\\\&C=\\kappa+(1-\\tau)wL\n",
    "\\end{align*}\n",
    "$$\n",
    "\n",
    "where \n",
    "\n",
    "* $C$ is *private* consumption with weight $\\alpha\\in(0,1)$.\n",
    "* $\\kappa > 0$ is the *free private* consumption component.\n",
    "* $C = (1-\\tau)wL$ is the *costly private* consumption component.\n",
    "* $w > 0 $ is the real wage.\n",
    "* $\\tau \\in (0,1)$ is the labor-income tax rate.\n",
    "* $G > 0 $ is *government* consumption with weight $1-\\alpha$.\n",
    "* $\\nu > 0$ is the disutility of labor scaling factor"
   ]
  },
  {
   "attachments": {},
   "cell_type": "markdown",
   "metadata": {},
   "source": [
    "\n",
    "The baseline parameters are:\n",
    "\n",
    "$$\n",
    "\\begin{align*}\n",
    "\\alpha &= 0.5\\\\\n",
    "\\kappa &= 1.0\\\\\n",
    "\\nu &= \\frac{1}{2\\cdot16^2} \\\\\n",
    "w &= 1.0 \\\\ \n",
    "\\tau &= 0.30 \\\\\n",
    "\\end{align*}\n",
    "$$"
   ]
  },
  {
   "attachments": {},
   "cell_type": "markdown",
   "metadata": {},
   "source": [
    "**Question 1:** Verify that the optimal labor supply choice is $L^{\\star}(\\tilde{w}) =\\frac{-\\kappa+\\sqrt{\\kappa^{2}+4\\frac{\\alpha}{\\nu}\\tilde{w}^2}}{2\\tilde{w}}$, where $\\tilde{w} = (1-\\tau)w$, for $G\\in\\left\\{1.0 , 2.0\\right\\}$."
   ]
  },
  {
   "cell_type": "code",
   "execution_count": 2,
   "metadata": {},
   "outputs": [],
   "source": [
    "# write your code here"
   ]
  },
  {
   "attachments": {},
   "cell_type": "markdown",
   "metadata": {},
   "source": [
    "**Question 2:** Illustrate how $L^{\\star}(\\tilde{w})$ depends on $w$."
   ]
  },
  {
   "cell_type": "code",
   "execution_count": 3,
   "metadata": {},
   "outputs": [],
   "source": [
    "# write your code here"
   ]
  },
  {
   "attachments": {},
   "cell_type": "markdown",
   "metadata": {},
   "source": [
    "\n",
    "We now consider a government, who chooses $\\tau$ and spend all of the taxes on government consumption so:\n",
    "\n",
    "$$\n",
    "G = \\tau w L^{\\star}((1-\\tau)w)\n",
    "$$\n",
    "\n",
    "**Question 3:** Plot the implied $L$, $G$ and worker utility for a grid of $\\tau$-values.\n"
   ]
  },
  {
   "cell_type": "code",
   "execution_count": 4,
   "metadata": {},
   "outputs": [],
   "source": [
    "# write your code here"
   ]
  },
  {
   "attachments": {},
   "cell_type": "markdown",
   "metadata": {},
   "source": [
    "**Question 4:** Find the socially optimal tax rate $\\tau^{\\star}\\in(0,1)$ maximizing worker utility. Illustrate your result."
   ]
  },
  {
   "cell_type": "code",
   "execution_count": 5,
   "metadata": {},
   "outputs": [],
   "source": [
    "# write your code here"
   ]
  },
  {
   "attachments": {},
   "cell_type": "markdown",
   "metadata": {},
   "source": [
    "A more general preference formulation for the worker is:\n",
    "\n",
    "$$\n",
    "\\begin{align*}\n",
    "\\mathcal{V}(w,\\tau,G)&=\\max_{L\\in[0,24]}\\frac{\\left[ \\left( \\alpha C^{\\frac{\\sigma-1}{\\sigma}}+(1-\\alpha) G^{\\frac{\\sigma-1}{\\sigma}} \\right)^{\\frac{\\sigma}{1-\\sigma} }\\right]^{1-\\rho}-1}{1-\\rho}- \\nu\\frac{L^{1+\\varepsilon}}{1+\\varepsilon},\\,\\,\\,\\varepsilon,\\rho,\\sigma>0,\\,\\,\\,\\rho,\\sigma\\neq1\\\\&\\text{s.t.}\\\\&C=\\kappa+(1-\\tau)wL\n",
    "\\end{align*}    \n",
    "$$\n",
    "\n",
    "Optimal labor supply is now $L^{\\star}(\\tilde{w},G)$."
   ]
  },
  {
   "attachments": {},
   "cell_type": "markdown",
   "metadata": {},
   "source": [
    "Questions 5 and 6 must be answered with the general formulation, and for 2 different set of parameters:\n",
    "\n",
    "- Set 1:  $\\sigma = 1.001$, $\\rho = 1.001$ and $\\varepsilon = 1.0$.\n",
    "- Set 2:  $\\sigma = 1.5$, $\\rho = 1.5$ and $\\varepsilon = 1.0 $."
   ]
  },
  {
   "attachments": {},
   "cell_type": "markdown",
   "metadata": {},
   "source": [
    "**Question 5:** Find the $G$ that solves $G = \\tau w L^{\\star}((1-\\tau)w,G)$ using the $\\tau$ found in question 4.\n",
    "\n",
    "*Hint: First write code that solves the worker problem for given values of $G$ and $\\tau$. Then find the correct G based on this.*"
   ]
  },
  {
   "cell_type": "code",
   "execution_count": 6,
   "metadata": {},
   "outputs": [],
   "source": [
    "# write your code here"
   ]
  },
  {
   "attachments": {},
   "cell_type": "markdown",
   "metadata": {},
   "source": [
    "**Question 6:** Find the socially optimal tax rate, $\\tau^{\\star}$, maximizing worker utility, while keeping $G = \\tau w L^{\\star}((1-\\tau)w,G)$."
   ]
  },
  {
   "cell_type": "code",
   "execution_count": 7,
   "metadata": {},
   "outputs": [],
   "source": [
    "# write your code here  "
   ]
  },
  {
   "attachments": {},
   "cell_type": "markdown",
   "metadata": {},
   "source": [
    "## 2. <a id='toc2_'></a>[Problem 2: Labor adjustment costs](#toc0_)"
   ]
  },
  {
   "attachments": {},
   "cell_type": "markdown",
   "metadata": {},
   "source": [
    "## Question 1:\n",
    "\n",
    "You own a hair salon. You employ hairdressers, $\\ell_t$, to produce haircuts, $y_t = \\ell_t$.\n",
    "\n",
    "The wage for each haridresser is $w$.\n",
    "\n",
    "The demand for haircuts implies that the price of haircuts you can charge is $p_t = \\kappa_t y_t^{-\\eta}$, where $\\kappa_t$ is a demand-shock and $\\eta \\in (0,1)$ measures the elasticity of demand.\n",
    "\n",
    "Profits are:\n",
    "\n",
    "$$\n",
    "\\Pi_t = p_t y_t - w \\ell_t = \\kappa_t \\ell_t^{1-\\eta} - w \\ell_t\n",
    "$$\n",
    "\n",
    "Baseline parameters are:\n",
    "- $\\eta = 0.5$\n",
    "- $w = 1.0$\n",
    "\n",
    "Verify numerically that $\\ell_{t}=\\left(\\frac{(1-\\eta)\\kappa_{t}}{w}\\right)^{\\frac{1}{\\eta}}$ maximises profits, for $\\kappa\\in\\left\\{1.0 , 2.0\\right\\}$."
   ]
  },
  {
   "cell_type": "code",
   "execution_count": 81,
   "metadata": {},
   "outputs": [
    {
     "name": "stdout",
     "output_type": "stream",
     "text": [
      "For k = 1, the optimal quantity of hairdressers that maximizes profits is: 0.25\n",
      "For k = 2, the optimal quantity of hairdressers that maximizes profits is: 1.00\n"
     ]
    }
   ],
   "source": [
    "# We firstly set the baseline parameters\n",
    "n = 0.5\n",
    "w = 1\n",
    "\n",
    "# We then set the values of k\n",
    "k_values = [1, 2]\n",
    "\n",
    "# We then, for each value of k, calculate the optimal l_t that maximizes profits\n",
    "for k in k_values:\n",
    "    optimal_l_t = p2.optimize_profit(k, n, w)\n",
    "    print(f\"For k = {k}, the optimal quantity of hairdressers that maximizes profits is: {optimal_l_t:.2f}\")\n",
    "\n"
   ]
  },
  {
   "attachments": {},
   "cell_type": "markdown",
   "metadata": {},
   "source": [
    "By inserting k $\\in$ {1, 2} as well as the parameters given in the text we see that the profit does maximize when labour is at the level of\n",
    "$$l_t = \\Bigg(\\frac{(1-\\eta)k_t}{w}\\Bigg)^\\frac{1}{\\eta}$$\n",
    "$$l_t = \\Bigg(\\frac{(1-0.5)*1}{1}\\Bigg)^\\frac{1}{0.5} = 0.25, \\hspace{0.25cm} for \\hspace{0.25cm} k=1$$\n",
    "$$l_t = \\Bigg(\\frac{(1-0.5)*2}{1}\\Bigg)^\\frac{1}{0.5} = 1, \\hspace{0.25cm} for \\hspace{0.25cm} k=2$$\n",
    "Meaning we have verified the found level of labour that maximizes profits.\n"
   ]
  },
  {
   "attachments": {},
   "cell_type": "markdown",
   "metadata": {},
   "source": [
    "## Question 2: \n",
    "\n",
    "We now consider a *dynamic* version of the model.\n",
    "\n",
    "* The demand-shock is a so-called AR(1) in logs, \n",
    "\n",
    "$$\n",
    "\\log \\kappa_{t} = \\rho \\log \\kappa_{t-1} + \\epsilon_{t},\\,\\,\\, \\epsilon_{t+1} \\sim \\mathcal{N}(-0.5\\sigma_{\\epsilon}^2,\\sigma_{\\epsilon})\n",
    "$$\n",
    "\n",
    "* Any hiring or firing implies a fixed adjustment cost, $\\iota > 0 $.\n",
    "* Future profits are discounted with a monthly factor of $R \\in (0,1)$.\n",
    "\n",
    "The initial demand shock is $\\kappa_{-1} = 1$ and the planning horizon is 10 years, i.e. 120 months so $t \\in \\{0,1,2,\\dots,119\\}$. Initially you don't have any employees, $\\ell_{-1}=0$\n",
    "\n",
    "The *ex post* value of the salon is *conditional* on the shock series is:\n",
    "\n",
    "$$\n",
    "h(\\epsilon_0,\\epsilon_1,\\dots,\\epsilon_{119}) = \\left[\\sum_{t=0}^{119}R^{-t}\\left[\\kappa_{t}\\ell_{t}^{1-\\eta}-w\\ell_{t}-\\boldsymbol{1}_{\\ell_{t}\\neq\\ell_{t-1}}\\iota\\right]\\right]\n",
    "$$\n",
    "\n",
    "The *ex ante* expected value of the salon can be approximated by\n",
    "\n",
    "$$\n",
    "H = \\mathbb{E}[h(\\epsilon_0,\\epsilon_1,\\dots,\\epsilon_{119})] \\approx \\frac{1}{K}\\sum_{k=0}^{K} h(\\epsilon_0^k,\\epsilon_1^k,\\dots,\\epsilon_{119}^k)\n",
    "$$\n",
    "\n",
    "where each $k\\in\\{0,1,\\dots,K-1\\}$ is a random shock series. Maximizing profitability means maximizing $H$.\n",
    "\n",
    "\n",
    "Baseline parameters are: \n",
    "\n",
    "- $\\rho = 0.90$\n",
    "- $\\iota = 0.01$\n",
    "- $\\sigma_{\\epsilon} = 0.10$\n",
    "- $R = \\left(1+0.01\\right)^{1/12}$\n",
    "\n",
    "Calculate $H$ if the policy  $\\ell_{t}=\\left(\\frac{(1-\\eta)\\kappa_{t}}{w}\\right)^{\\frac{1}{\\eta}}$ from question 1 is followed. Choose $K$ so the approximation is good enough to not affect your results substantially."
   ]
  },
  {
   "cell_type": "code",
   "execution_count": 82,
   "metadata": {},
   "outputs": [
    {
     "name": "stdout",
     "output_type": "stream",
     "text": [
      "The value of H with this updated policy is: 27.82\n"
     ]
    }
   ],
   "source": [
    "# Firstly we set the baseline parameters\n",
    "rho = 0.9\n",
    "iota = 0.01\n",
    "sigma_epsilon = 0.1\n",
    "R = (1 + 0.01)**(1/12)\n",
    "eta = 0.5\n",
    "w = 1\n",
    "\n",
    "# Then we set the planning horizon of 120 months equal to 10 years\n",
    "T = 120\n",
    "\n",
    "# Then we set K equal to 1000 to not affect our results too much\n",
    "K = 1000\n",
    "\n",
    "# Then we define the function that calculates the value of the ex ante value of the salon for each K\n",
    "def calculate_h_2(shock_series):\n",
    "    l_previous = 0\n",
    "    h_value = 0\n",
    "\n",
    "    for t in range(T):\n",
    "        if t == 0:\n",
    "            kappa_t = np.exp(shock_series[t])\n",
    "        else:\n",
    "            kappa_t = np.exp(rho * np.log(kappa_t) + shock_series[t])\n",
    "\n",
    "        l_t = ((1 - eta) * kappa_t / w)**(1 / eta)\n",
    "        adjustment_cost = 0 if l_t == l_previous else iota\n",
    "        profit = kappa_t * l_t**(1 - eta) - w * l_t - adjustment_cost\n",
    "        h_value += R**(-t) * profit\n",
    "        l_previous = l_t\n",
    "\n",
    "    return h_value\n",
    "\n",
    "# Then we generate the shocks to the salon\n",
    "np.random.seed(0)\n",
    "shock_series = np.random.normal(-0.5 * sigma_epsilon**2, sigma_epsilon, size=(K, T))\n",
    "\n",
    "# Then we calculate the average of H for all shock series\n",
    "H = np.mean([calculate_h_2(shock_series[k]) for k in range(K)])\n",
    "\n",
    "# Lastly we print the result\n",
    "print(f\"The value of H with this updated policy is: {H:.2f}\")"
   ]
  },
  {
   "attachments": {},
   "cell_type": "markdown",
   "metadata": {},
   "source": [
    "We have chosen a large K = 1000 so not to affect the results substantially. With this large K we end up with a ex ante expected value of the salon of 27.82."
   ]
  },
  {
   "attachments": {},
   "cell_type": "markdown",
   "metadata": {},
   "source": [
    "\n",
    "## Question 3:\n",
    "\n",
    "\n",
    "Next, we consider policies on the form:\n",
    "\n",
    "$$\n",
    "\n",
    "\\ell_{t}=\\begin{cases}\n",
    "\\ell_t^{\\ast}  & \\text{if }\\left|\\ell_{t-1}-\\ell_t^{\\ast} \\right|>\\Delta\\\\\n",
    "\\ell_{t-1} & \\text{else }\n",
    "\\end{cases}\n",
    "\\\\\n",
    "\\text{where}\\,\\,\\ell_t^{\\ast} = \\left(\\frac{(1-\\eta)\\kappa_{t}}{w}\\right)^{\\frac{1}{\\eta}} \\\\\n",
    "\n",
    "$$\n",
    "With $\\Delta \\geq 0$ and $\\Delta = 0$ being the previous policy.\n",
    "\n",
    "Calculate $H$ if the policy above was followed with $\\Delta = 0.05$. Does it improve profitability?\n",
    "\n"
   ]
  },
  {
   "cell_type": "code",
   "execution_count": 83,
   "metadata": {},
   "outputs": [
    {
     "name": "stdout",
     "output_type": "stream",
     "text": [
      "The value of H with the new policy is: 28.50\n"
     ]
    }
   ],
   "source": [
    "# Firstly we set the baseline parameters\n",
    "rho = 0.9\n",
    "iota = 0.01\n",
    "sigma_epsilon = 0.1\n",
    "R = (1 + 0.01)**(1/12)\n",
    "eta = 0.5\n",
    "w = 1\n",
    "delta = 0.05\n",
    "\n",
    "# Then we set the planning horizon of 120 months equal to 10 years\n",
    "T = 120\n",
    "\n",
    "# Then we set K equal to 1000 to not affect our results too much\n",
    "K = 1000\n",
    "\n",
    "# Then we define the new function to calculate h for a given shock series but with the updated policy\n",
    "def calculate_h_3(shock_series):\n",
    "    l_previous = 0\n",
    "    h_value = 0\n",
    "\n",
    "    for t in range(T):\n",
    "        if t == 0:\n",
    "            kappa_t = np.exp(shock_series[t])\n",
    "        else:\n",
    "            kappa_t = np.exp(rho * np.log(kappa_t) + shock_series[t])\n",
    "\n",
    "        l_star = ((1 - eta) * kappa_t / w)**(1 / eta)\n",
    "        if abs(l_previous - l_star) > delta:\n",
    "            l_t = l_star\n",
    "        else:\n",
    "            l_t = l_previous\n",
    "\n",
    "        adjustment_cost = 0 if l_t == l_previous else iota\n",
    "        profit = kappa_t * l_t**(1 - eta) - w * l_t - adjustment_cost\n",
    "        h_value += R**(-t) * profit\n",
    "        l_previous = l_t\n",
    "\n",
    "    return h_value\n",
    "\n",
    "# Then we again generate K random shock series\n",
    "np.random.seed(0)\n",
    "shock_series = np.random.normal(-0.5 * sigma_epsilon**2, sigma_epsilon, size=(K, T))\n",
    "\n",
    "# Then we calculate the average of H by averaging for all shock series\n",
    "H_new = np.mean([calculate_h_3(shock_series[k]) for k in range(K)])\n",
    "\n",
    "# Lastly we print the result\n",
    "print(f\"The value of H with the new policy is: {H_new:.2f}\")\n"
   ]
  },
  {
   "attachments": {},
   "cell_type": "markdown",
   "metadata": {},
   "source": [
    "We hereby see that including the new policy would improve the profitability as the ex ante expected value of the salon has increased from 27.82 to 28.50."
   ]
  },
  {
   "attachments": {},
   "cell_type": "markdown",
   "metadata": {},
   "source": [
    "## Question 4:\n",
    "Find the optimal $\\Delta$ maximizing $H$. Illustrate your result."
   ]
  },
  {
   "cell_type": "code",
   "execution_count": 84,
   "metadata": {},
   "outputs": [
    {
     "data": {
      "image/png": "[encoded data removed]",
      "text/plain": [
       "<Figure size 640x480 with 1 Axes>"
      ]
     },
     "metadata": {},
     "output_type": "display_data"
    },
    {
     "name": "stdout",
     "output_type": "stream",
     "text": [
      "The optimal choice of Delta that maximizes H is: 0.08\n",
      "The maximum value of H is: 28.56 given the optimal choice of Delta\n"
     ]
    }
   ],
   "source": [
    "# Firstly we set the baseline parameters\n",
    "rho = 0.9\n",
    "iota = 0.01\n",
    "sigma_epsilon = 0.1\n",
    "R = (1 + 0.01)**(1/12)\n",
    "eta = 0.5\n",
    "w = 1\n",
    "\n",
    "# Then we set the planning horizon of 120 months equal to 10 years\n",
    "T = 120\n",
    "\n",
    "# Then we set K equal to 1000 to not affect our results too much\n",
    "K = 1000\n",
    "\n",
    "# We then again define the function to calculate h for a given shock series and delta\n",
    "def calculate_h_4(shock_series, delta):\n",
    "    l_previous = 0\n",
    "    h_value = 0\n",
    "\n",
    "    for t in range(T):\n",
    "        if t == 0:\n",
    "            kappa_t = np.exp(shock_series[t])\n",
    "        else:\n",
    "            kappa_t = np.exp(rho * np.log(kappa_t) + shock_series[t])\n",
    "\n",
    "        l_star = ((1 - eta) * kappa_t / w)**(1 / eta)\n",
    "        if abs(l_previous - l_star) > delta:\n",
    "            l_t = l_star\n",
    "        else:\n",
    "            l_t = l_previous\n",
    "\n",
    "        adjustment_cost = 0 if l_t == l_previous else iota\n",
    "        profit = kappa_t * l_t**(1 - eta) - w * l_t - adjustment_cost\n",
    "        h_value += R**(-t) * profit\n",
    "        l_previous = l_t\n",
    "\n",
    "    return h_value\n",
    "\n",
    "# Then we generate K random shock series\n",
    "np.random.seed(0)\n",
    "shock_series = np.random.normal(-0.5 * sigma_epsilon**2, sigma_epsilon, size=(K, T))\n",
    "\n",
    "# We then set the range of delta values to test upon\n",
    "delta_values = np.linspace(0, 0.5, 100)\n",
    "\n",
    "# Then we calculate H for each delta value\n",
    "H_values = []\n",
    "for delta in delta_values:\n",
    "    H = np.mean([calculate_h_4(shock_series[k], delta) for k in range(K)])\n",
    "    H_values.append(H)\n",
    "\n",
    "# We then find the optimal delta value of the ones we tested\n",
    "optimal_delta = delta_values[np.argmax(H_values)]\n",
    "max_H = np.max(H_values)\n",
    "\n",
    "# Lastly we plot the results to find the optimal delta value\n",
    "plt.plot(delta_values, H_values)\n",
    "plt.axvline(x=optimal_delta, color='r', linestyle='--', label=f'Optimal Delta: {optimal_delta:.2f}')\n",
    "plt.xlabel('Delta')\n",
    "plt.ylabel('H')\n",
    "plt.title('Optimal choice of Delta')\n",
    "plt.legend()\n",
    "plt.grid(True)\n",
    "plt.show()\n",
    "\n",
    "print(f\"The optimal choice of Delta that maximizes H is: {optimal_delta:.2f}\")\n",
    "print(f\"The maximum value of H is: {max_H:.2f} given the optimal choice of Delta\")\n"
   ]
  },
  {
   "attachments": {},
   "cell_type": "markdown",
   "metadata": {},
   "source": [
    "We hereby see that the optimal Delta value that maximizes H is 0.08 which increases the ex ante expected value of the salon to 28.55 from 28.50 that we saw when delta was 0.05."
   ]
  },
  {
   "attachments": {},
   "cell_type": "markdown",
   "metadata": {},
   "source": [
    "\n",
    "## Question 5:\n",
    "Suggest an alternative policy you believe might improve profitability. Implement and test your policy.\n"
   ]
  },
  {
   "attachments": {},
   "cell_type": "markdown",
   "metadata": {},
   "source": [
    "To potentially improve the profitability of the salon we could try the alternative policy of a dynamic pricing strategy based on the demand conditions. The salon can now adjust the price based on the current level of demand instead of a fixed price for haircuts. \n",
    "\n",
    "The policy can be updated as follows:\n",
    "\n",
    "- As before we calculate the demand shock $\\kappa_t$ using the AR(1) process.\n",
    "- Using the previous formula we will calculate the optimal level of employment $\\ell_t$: $\\ell_t = \\left(\\frac{(1-\\eta)\\kappa_t}{w}\\right)^{\\frac{1}{\\eta}}$.\n",
    "- Using a new price function, we can calculate the price $p_t$ based on the demand and the current level of employment. For simplicity sake, we will use a simple linear pricing function: $p_t = a - b \\cdot \\ell_t$, where $a$ and $b$ are positive constants.\n",
    "- By inverting the pricing function and solving for $\\ell_t$ we can determine the actual level of employment $\\ell_t$: $\\ell_t = \\left(\\frac{a - p_t}{b}\\right)^{\\frac{1}{\\eta}}$.\n",
    "- If the absolute difference between the previous and optimal levels of employment optimal level of employment is greater than a certain threshold ($\\Delta$), we update the employment level to the optimal level. If not keep the employment level unchanged.\n",
    "- We can then calculate the profit using the new employment level and the new price.\n",
    "- To implment this alternativ policy it requires a new script. The modified script can be found below with the corresponding ex ante expected value of the salon."
   ]
  },
  {
   "cell_type": "code",
   "execution_count": 85,
   "metadata": {},
   "outputs": [
    {
     "name": "stdout",
     "output_type": "stream",
     "text": [
      "The value of H for the new alternative policy is: 43.47\n"
     ]
    }
   ],
   "source": [
    "# Firstly we set the baseline parameters (We define the constants a and b here for the pricing function)\n",
    "rho = 0.9\n",
    "iota = 0.01\n",
    "sigma_epsilon = 0.1\n",
    "R = (1 + 0.01)**(1/12)\n",
    "eta = 0.5\n",
    "w = 1\n",
    "delta = 0.05\n",
    "a = 2  # The a constant for the pricing function\n",
    "b = 0.5  # The b constant for the pricing function\n",
    "\n",
    "# Then we set the planning horizon of 120 months equal to 10 years\n",
    "T = 120\n",
    "\n",
    "# Then we set K equal to 1000 to not affect our results too much\n",
    "K = 1000\n",
    "\n",
    "# We then define the function to calculate h for a given shock series\n",
    "def calculate_h(shock_series):\n",
    "    l_previous = 0\n",
    "    h_value = 0\n",
    "\n",
    "    for t in range(T):\n",
    "        if t == 0:\n",
    "            kappa_t = np.exp(shock_series[t])\n",
    "        else:\n",
    "            kappa_t = np.exp(rho * np.log(kappa_t) + shock_series[t])\n",
    "\n",
    "        l_star = ((1 - eta) * kappa_t / w)**(1 / eta)\n",
    "        p_t = a - b * l_star\n",
    "        l_t = ((a - p_t) / b)**(1 / eta) if abs(l_previous - l_star) > delta else l_previous\n",
    "\n",
    "        adjustment_cost = 0 if l_t == l_previous else iota\n",
    "        profit = p_t * l_t**(1 - eta) - w * l_t - adjustment_cost\n",
    "        h_value += R**(-t) * profit\n",
    "        l_previous = l_t\n",
    "\n",
    "    return h_value\n",
    "\n",
    "# We then generate K random shock series\n",
    "np.random.seed(0)\n",
    "shock_series = np.random.normal(-0.5 * sigma_epsilon**2, sigma_epsilon, size=(K, T))\n",
    "\n",
    "# We then calculate H for the alternative policy we've implemented\n",
    "H = np.mean([calculate_h(shock_series[k]) for k in range(K)])\n",
    "\n",
    "# Lastly we print the approximate value of H for the alternative policy\n",
    "print(f\"The value of H for the new alternative policy is: {H:.2f}\")\n"
   ]
  },
  {
   "attachments": {},
   "cell_type": "markdown",
   "metadata": {},
   "source": [
    "By implementing this new solution we can increase our ex ante expected value of the salon to 43.47 from 28.55, meaning we have increased our ex ante expected value of the salon by 52.2%."
   ]
  },
  {
   "attachments": {},
   "cell_type": "markdown",
   "metadata": {},
   "source": [
    "## 3. <a id='toc3_'></a>[Problem 3: Global optimizer with refined multi-start](#toc0_)"
   ]
  },
  {
   "attachments": {},
   "cell_type": "markdown",
   "metadata": {},
   "source": [
    "We consider the Griewank function:\n",
    "\n",
    "$$ f(\\boldsymbol{x}) = \\sum^n_{i=1} \\frac{x^2_i}{4000}-\\prod^n_{i=1}\\cos\\left(\\frac{x_i}{\\sqrt{i}}\\right)+1$$\n",
    "\n",
    "The **global minimum** of this function is $f(0,0) = 0$ (remember: $\\cos(0)=1$).<br>\n",
    "But the function also have a lot of **local minima**."
   ]
  },
  {
   "cell_type": "code",
   "execution_count": 71,
   "metadata": {},
   "outputs": [],
   "source": [
    "def griewank(x):\n",
    "    return griewank_(x[0],x[1])\n",
    "    \n",
    "def griewank_(x1,x2):\n",
    "    A = x1**2/4000 + x2**2/4000\n",
    "    B = np.cos(x1/np.sqrt(1))*np.cos(x2/np.sqrt(2))\n",
    "    return A-B+1"
   ]
  },
  {
   "attachments": {},
   "cell_type": "markdown",
   "metadata": {},
   "source": [
    "A **refined global optimizer with multi-start** is:\n",
    "\n",
    "1. Choose *bounds* for $\\mathbf{x}$ and *tolerance* $\\tau > 0$.\n",
    "2. Choose number of *warm-up iterations*, $\\underline{K} > 0$ and *maximum number of iterations*, $K > \\underline{K}$.\n",
    "3. In each iteration for $k \\in \\{0,1,\\dots,K-1\\}$:\n",
    "\n",
    "    A. Draw random $\\mathbf{x}^k$ uniformly within chosen bounds.\n",
    "\n",
    "    B. If $k < \\underline{K}$ go to step E.\n",
    "\n",
    "    C. Calculate $\\chi^k = 0.50\\cdot\\frac{2}{1+\\exp((k-\\underline{K})/100)}$  \n",
    "\n",
    "    D. Set $\\mathbf{x}^{k0} = \\chi^k \\mathbf{x}^k + (1-\\chi^k)\\mathbf{x}^{\\ast} $\n",
    "\n",
    "    E. Run optimizer with $\\mathbf{x}^{k0}$ as initial guess and $\\mathbf{x}^{k\\ast}$ as result.\n",
    "\n",
    "    F. Set $\\mathbf{x}^{\\ast} = \\mathbf{x}^{k\\ast}$ if $k = 0$ or $f(\\mathbf{x}^{k\\ast}) < f(\\mathbf{x}^{\\ast})$\n",
    "\n",
    "    G. If $f(\\mathbf{x}^{\\ast}) < \\tau$ go to step 4.\n",
    "\n",
    "4. Return the result $\\mathbf{x}^{\\ast}$."
   ]
  },
  {
   "attachments": {},
   "cell_type": "markdown",
   "metadata": {},
   "source": [
    "As settings we choose:\n",
    "\n",
    "* $x_1,x_2 \\in  [-600,600]$\n",
    "* $\\tau = 10^{-8}$\n",
    "* $\\underline{K}=10$\n",
    "* $K=1000$\n",
    "\n",
    "The optimizer in Step 3.E is `BFGS` with a tolerance of $\\tau$."
   ]
  },
  {
   "attachments": {},
   "cell_type": "markdown",
   "metadata": {},
   "source": [
    "## Question 1: \n",
    "Implement the refined global optimizer with multi-start. Illustrate how the effective initial guesses $\\mathbf{x}^{k0}$ vary with the iteration counter $k$."
   ]
  },
  {
   "cell_type": "code",
   "execution_count": 74,
   "metadata": {},
   "outputs": [
    {
     "name": "stdout",
     "output_type": "stream",
     "text": [
      "Optimal solution:\n",
      "x1 = -0.0000\n",
      "x2 = -0.0000\n"
     ]
    },
    {
     "data": {
      "text/plain": [
       "<function matplotlib.pyplot.plot(*args, scalex=True, scaley=True, data=None, **kwargs)>"
      ]
     },
     "execution_count": 74,
     "metadata": {},
     "output_type": "execute_result"
    },
    {
     "data": {
      "image/png": "[encoded data removed]",
      "text/plain": [
       "<Figure size 800x600 with 1 Axes>"
      ]
     },
     "metadata": {},
     "output_type": "display_data"
    }
   ],
   "source": [
    "# We firstly define the Griewank function\n",
    "def griewank(x):\n",
    "    n = len(x)\n",
    "    sum_term = np.sum(x**2 / 4000)\n",
    "    prod_term = np.prod(np.cos(x / np.sqrt(np.arange(1, n + 1))))\n",
    "    return sum_term - prod_term + 1\n",
    "\n",
    "# Refined global optimizer with multi-start\n",
    "def refined_global_optimizer(bounds, tolerance, warmup_iterations, max_iterations):\n",
    "    x_star = np.zeros(len(bounds))  # Initialize x_star as a zero vector\n",
    "    f_star = np.inf\n",
    "\n",
    "    for k in range(max_iterations):\n",
    "        # Step 3.A: Draw random x^k uniformly within chosen bounds\n",
    "        x_k = np.random.uniform(bounds[:, 0], bounds[:, 1])\n",
    "\n",
    "        if k >= warmup_iterations:\n",
    "            # Step 3.C: Calculate chi^k\n",
    "            chi_k = 0.5 * 2 / (1 + np.exp((k - warmup_iterations) / 100))\n",
    "\n",
    "            # Step 3.D: Calculate x_k0\n",
    "            x_k0 = chi_k * x_k + (1 - chi_k) * x_star\n",
    "\n",
    "            # Step 3.E: Run optimizer with x_k0 as initial guess\n",
    "            res = minimize(griewank, x_k0, method='BFGS', tol=tolerance)\n",
    "            x_k_star = res.x\n",
    "            f_k_star = res.fun\n",
    "\n",
    "            # Step 3.F: Update x_star and f_star\n",
    "            if k == warmup_iterations or f_k_star < f_star:\n",
    "                x_star = x_k_star\n",
    "                f_star = f_k_star\n",
    "\n",
    "        # Step 3.G: Check if f_star is below tolerance\n",
    "        if f_star < tolerance:\n",
    "            break\n",
    "\n",
    "    return x_star\n",
    "\n",
    "# Set the parameters and bounds\n",
    "bounds = np.array([[-600, 600], [-600, 600]])\n",
    "tolerance = 1e-8\n",
    "warmup_iterations = 10\n",
    "max_iterations = 1000\n",
    "\n",
    "# Run the refined global optimizer\n",
    "x_star = refined_global_optimizer(bounds, tolerance, warmup_iterations, max_iterations)\n",
    "\n",
    "# Print the optimal solution\n",
    "print(\"Optimal solution:\")\n",
    "print(f\"x1 = {x_star[0]:.4f}\")\n",
    "print(f\"x2 = {x_star[1]:.4f}\")\n",
    "\n",
    "# Plotting the effective initial guesses x_k0\n",
    "effective_initial_guesses = []\n",
    "\n",
    "for k in range(max_iterations):\n",
    "    if k < warmup_iterations:\n",
    "        effective_initial_guesses.append(np.random.uniform(bounds[:, 0], bounds[:, 1]))\n",
    "    else:\n",
    "        chi_k = 0.5 * 2 / (1 + np.exp((k - warmup_iterations) / 100))\n",
    "        x_k0 = chi_k * effective_initial_guesses[k-warmup_iterations] + (1 - chi_k) * x_star\n",
    "        effective_initial_guesses.append(x_k0)\n",
    "\n",
    "# Convert the list to a numpy array for plotting\n",
    "effective_initial_guesses = np.array(effective_initial_guesses)\n",
    "\n",
    "# Plotting the effective initial guesses\n",
    "plt.figure(figsize=(8, 6))\n",
    "plt.scatter(effective_initial_guesses[:, 0], effective_initial_guesses[:, 1], c='b', marker='o')\n",
    "plt.scatter(x_star[0], x_star[1], c='r', marker='x')\n",
    "plt.xlabel('x1')\n",
    "plt.ylabel('x2')\n",
    "plt.title('Effective Initial Guesses')\n",
    "plt.grid(True)\n",
    "plt.plot\n"
   ]
  },
  {
   "attachments": {},
   "cell_type": "markdown",
   "metadata": {},
   "source": [
    "## Question 2:\n",
    "Is it a better idea to set $\\underline{K} = 100$? Is the convergence faster?"
   ]
  },
  {
   "cell_type": "code",
   "execution_count": 70,
   "metadata": {},
   "outputs": [
    {
     "name": "stdout",
     "output_type": "stream",
     "text": [
      "Optimal solution:\n",
      "x1 = -0.0000\n",
      "x2 = -0.0000\n"
     ]
    },
    {
     "data": {
      "image/png": "[encoded data removed]",
      "text/plain": [
       "<Figure size 800x600 with 1 Axes>"
      ]
     },
     "metadata": {},
     "output_type": "display_data"
    }
   ],
   "source": [
    "import numpy as np\n",
    "from scipy.optimize import minimize\n",
    "import matplotlib.pyplot as plt\n",
    "\n",
    "# Griewank function\n",
    "def griewank(x):\n",
    "    n = len(x)\n",
    "    sum_term = np.sum(x**2 / 4000)\n",
    "    prod_term = np.prod(np.cos(x / np.sqrt(np.arange(1, n + 1))))\n",
    "    return sum_term - prod_term + 1\n",
    "\n",
    "# Refined global optimizer with multi-start\n",
    "def refined_global_optimizer(bounds, tolerance, warmup_iterations, max_iterations):\n",
    "    x_star = np.zeros(len(bounds))  # Initialize x_star as a zero vector\n",
    "    f_star = np.inf\n",
    "\n",
    "    for k in range(max_iterations):\n",
    "        # Step 3.A: Draw random x^k uniformly within chosen bounds\n",
    "        x_k = np.random.uniform(bounds[:, 0], bounds[:, 1])\n",
    "\n",
    "        if k >= warmup_iterations:\n",
    "            # Step 3.C: Calculate chi^k\n",
    "            chi_k = 0.5 * 2 / (1 + np.exp((k - warmup_iterations) / 100))\n",
    "\n",
    "            # Step 3.D: Calculate x_k0\n",
    "            x_k0 = chi_k * x_k + (1 - chi_k) * x_star\n",
    "\n",
    "            # Step 3.E: Run optimizer with x_k0 as initial guess\n",
    "            res = minimize(griewank, x_k0, method='BFGS', tol=tolerance)\n",
    "            x_k_star = res.x\n",
    "            f_k_star = res.fun\n",
    "\n",
    "            # Step 3.F: Update x_star and f_star\n",
    "            if k == warmup_iterations or f_k_star < f_star:\n",
    "                x_star = x_k_star\n",
    "                f_star = f_k_star\n",
    "\n",
    "        # Step 3.G: Check if f_star is below tolerance\n",
    "        if f_star < tolerance:\n",
    "            break\n",
    "\n",
    "    return x_star\n",
    "\n",
    "# Set the parameters and bounds\n",
    "bounds = np.array([[-600, 600], [-600, 600]])\n",
    "tolerance = 1e-8\n",
    "warmup_iterations = 100  # Modified value: warmup_iterations = 100\n",
    "max_iterations = 1000\n",
    "\n",
    "# Run the refined global optimizer\n",
    "x_star = refined_global_optimizer(bounds, tolerance, warmup_iterations, max_iterations)\n",
    "\n",
    "# Print the optimal solution\n",
    "print(\"Optimal solution:\")\n",
    "print(f\"x1 = {x_star[0]:.4f}\")\n",
    "print(f\"x2 = {x_star[1]:.4f}\")\n",
    "\n",
    "# Plotting the effective initial guesses x_k0\n",
    "effective_initial_guesses = []\n",
    "\n",
    "for k in range(max_iterations):\n",
    "    if k < warmup_iterations:\n",
    "        effective_initial_guesses.append(np.random.uniform(bounds[:, 0], bounds[:, 1]))\n",
    "    else:\n",
    "        chi_k = 0.5 * 2 / (1 + np.exp((k - warmup_iterations) / 100))\n",
    "        x_k0 = chi_k * effective_initial_guesses[k-warmup_iterations] + (1 - chi_k) * x_star\n",
    "        effective_initial_guesses.append(x_k0)\n",
    "\n",
    "# Convert the list to a numpy array for plotting\n",
    "effective_initial_guesses = np.array(effective_initial_guesses)\n",
    "\n",
    "# Plotting the effective initial guesses\n",
    "plt.figure(figsize=(8, 6))\n",
    "plt.scatter(effective_initial_guesses[:, 0], effective_initial_guesses[:, 1], c='b', marker='o')\n",
    "plt.scatter(x_star[0], x_star[1], c='r', marker='x')\n",
    "plt.xlabel('x1')\n",
    "plt.ylabel('x2')\n",
    "plt.title('Effective Initial Guesses')\n",
    "plt.grid(True)\n",
    "plt.show()\n"
   ]
  },
  {
   "cell_type": "code",
   "execution_count": 79,
   "metadata": {},
   "outputs": [
    {
     "data": {
      "image/png": "[encoded data removed]",
      "text/plain": [
       "<Figure size 800x600 with 1 Axes>"
      ]
     },
     "metadata": {},
     "output_type": "display_data"
    }
   ],
   "source": [
    "# Set the parameters and bounds\n",
    "bounds = np.array([[-600, 600], [-600, 600]])\n",
    "tolerance = 1e-8\n",
    "warmup_iterations_10 = 10\n",
    "warmup_iterations_100 = 100\n",
    "max_iterations = 1000\n",
    "\n",
    "# Run the refined global optimizer with different values of warmup_iterations\n",
    "x_star_10, objective_values_10 = refined_global_optimizer(bounds, tolerance, warmup_iterations_10, max_iterations)\n",
    "x_star_100, objective_values_100 = refined_global_optimizer(bounds, tolerance, warmup_iterations_100, max_iterations)\n",
    "\n",
    "# Plotting the objective function values\n",
    "plt.figure(figsize=(8, 6))\n",
    "plt.plot(objective_values_10, label='warmup_iterations = 10')\n",
    "plt.plot(objective_values_100, label='warmup_iterations = 100')\n",
    "plt.xlabel('Iteration')\n",
    "plt.ylabel('Objective Function Value')\n",
    "plt.title('Convergence Analysis')\n",
    "plt.legend()\n",
    "plt.grid(True)\n",
    "plt.show()\n"
   ]
  },
  {
   "cell_type": "code",
   "execution_count": null,
   "metadata": {},
   "outputs": [],
   "source": []
  }
 ],
 "metadata": {
  "kernelspec": {
   "display_name": "base",
   "language": "python",
   "name": "python3"
  },
  "language_info": {
   "codemirror_mode": {
    "name": "ipython",
    "version": 3
   },
   "file_extension": ".py",
   "mimetype": "text/x-python",
   "name": "python",
   "nbconvert_exporter": "python",
   "pygments_lexer": "ipython3",
   "version": "3.9.13"
  },
  "orig_nbformat": 4,
  "vscode": {
   "interpreter": {
    "hash": "38d980c2ede71b198d37465a9d9816a85aa1a82cf63396fa675aaf40883d3bc4"
   }
  }
 },
 "nbformat": 4,
 "nbformat_minor": 2
}
